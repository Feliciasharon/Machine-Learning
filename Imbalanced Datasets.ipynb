{
  "cells": [
    {
      "cell_type": "markdown",
      "id": "66705c23",
      "metadata": {
        "id": "66705c23"
      },
      "source": [
        "# Imbalanced Datasets\n",
        "\n",
        "### GIST:\n",
        "The goal of this assignment is to build a model that can reliably predict whether a client will subscribe to this term deposit based on their demographics and previous contact details from the Bank csv. You will notice that, without much effort, you can build a model that gives you a very high ‘accuracy’ score. However, this metric is misleading since the model cannot correctly classify instances of the minority class (‘1’ in this case). This can be attributed to the  inherent imbalance present in the target column of the dataset.  \n",
        "\n",
        "To solve this issue, you will need to employ certain ML techniques that are designed to counter class imbalance. Hence, the focus of this assignment will be towards addressing class imbalance and testing the model using different evaluation metrics other than just accuracy."
      ]
    },
    {
      "cell_type": "code",
      "execution_count": 61,
      "id": "b2f613c0-2e4f-4bfd-9b16-6faf60d5d65d",
      "metadata": {
        "id": "b2f613c0-2e4f-4bfd-9b16-6faf60d5d65d"
      },
      "outputs": [],
      "source": [
        "#libraries\n",
        "#Import below any other packages you need for your solution\n",
        "import numpy as np\n",
        "import pandas as pd\n",
        "import matplotlib.pyplot as plt\n",
        "import seaborn as sns\n",
        "from sklearn.model_selection import train_test_split, cross_val_predict, KFold, cross_validate\n",
        "from sklearn.preprocessing import StandardScaler, MinMaxScaler\n",
        "from sklearn.preprocessing import OneHotEncoder, OrdinalEncoder, LabelEncoder\n",
        "\n",
        "from sklearn.tree import DecisionTreeClassifier\n",
        "from sklearn.metrics import roc_auc_score, average_precision_score, confusion_matrix, auc, roc_curve,classification_report,ConfusionMatrixDisplay\n",
        "import imblearn\n",
        "from imblearn.over_sampling import RandomOverSampler, SMOTE\n",
        "from imblearn.under_sampling import RandomUnderSampler\n",
        "from imblearn.pipeline import make_pipeline as imb_make_pipeline"
      ]
    },
    {
      "cell_type": "code",
      "execution_count": 62,
      "id": "-JV1wiz-a8AK",
      "metadata": {
        "colab": {
          "base_uri": "https://localhost:8080/",
          "height": 412
        },
        "id": "-JV1wiz-a8AK",
        "outputId": "c5436783-25e7-4c99-e430-dc742ec2680d"
      },
      "outputs": [
        {
          "data": {
            "application/vnd.google.colaboratory.intrinsic+json": {
              "type": "dataframe",
              "variable_name": "df"
            },
            "text/html": [
              "\n",
              "  <div id=\"df-1417e13f-bbe5-46ab-b0a5-4eb766cafab5\" class=\"colab-df-container\">\n",
              "    <div>\n",
              "<style scoped>\n",
              "    .dataframe tbody tr th:only-of-type {\n",
              "        vertical-align: middle;\n",
              "    }\n",
              "\n",
              "    .dataframe tbody tr th {\n",
              "        vertical-align: top;\n",
              "    }\n",
              "\n",
              "    .dataframe thead th {\n",
              "        text-align: right;\n",
              "    }\n",
              "</style>\n",
              "<table border=\"1\" class=\"dataframe\">\n",
              "  <thead>\n",
              "    <tr style=\"text-align: right;\">\n",
              "      <th></th>\n",
              "      <th>age</th>\n",
              "      <th>job</th>\n",
              "      <th>marital</th>\n",
              "      <th>education</th>\n",
              "      <th>default</th>\n",
              "      <th>housing</th>\n",
              "      <th>loan</th>\n",
              "      <th>contact</th>\n",
              "      <th>month</th>\n",
              "      <th>day_of_week</th>\n",
              "      <th>...</th>\n",
              "      <th>campaign</th>\n",
              "      <th>pdays</th>\n",
              "      <th>previous</th>\n",
              "      <th>poutcome</th>\n",
              "      <th>emp.var.rate</th>\n",
              "      <th>cons.price.idx</th>\n",
              "      <th>cons.conf.idx</th>\n",
              "      <th>euribor3m</th>\n",
              "      <th>nr.employed</th>\n",
              "      <th>y</th>\n",
              "    </tr>\n",
              "  </thead>\n",
              "  <tbody>\n",
              "    <tr>\n",
              "      <th>0</th>\n",
              "      <td>56</td>\n",
              "      <td>housemaid</td>\n",
              "      <td>married</td>\n",
              "      <td>basic.4y</td>\n",
              "      <td>no</td>\n",
              "      <td>no</td>\n",
              "      <td>no</td>\n",
              "      <td>telephone</td>\n",
              "      <td>may</td>\n",
              "      <td>mon</td>\n",
              "      <td>...</td>\n",
              "      <td>1</td>\n",
              "      <td>999</td>\n",
              "      <td>0</td>\n",
              "      <td>nonexistent</td>\n",
              "      <td>1.1</td>\n",
              "      <td>93.994</td>\n",
              "      <td>-36.4</td>\n",
              "      <td>4.857</td>\n",
              "      <td>5191.0</td>\n",
              "      <td>no</td>\n",
              "    </tr>\n",
              "    <tr>\n",
              "      <th>1</th>\n",
              "      <td>57</td>\n",
              "      <td>services</td>\n",
              "      <td>married</td>\n",
              "      <td>high.school</td>\n",
              "      <td>unknown</td>\n",
              "      <td>no</td>\n",
              "      <td>no</td>\n",
              "      <td>telephone</td>\n",
              "      <td>may</td>\n",
              "      <td>mon</td>\n",
              "      <td>...</td>\n",
              "      <td>1</td>\n",
              "      <td>999</td>\n",
              "      <td>0</td>\n",
              "      <td>nonexistent</td>\n",
              "      <td>1.1</td>\n",
              "      <td>93.994</td>\n",
              "      <td>-36.4</td>\n",
              "      <td>4.857</td>\n",
              "      <td>5191.0</td>\n",
              "      <td>no</td>\n",
              "    </tr>\n",
              "    <tr>\n",
              "      <th>2</th>\n",
              "      <td>37</td>\n",
              "      <td>services</td>\n",
              "      <td>married</td>\n",
              "      <td>high.school</td>\n",
              "      <td>no</td>\n",
              "      <td>yes</td>\n",
              "      <td>no</td>\n",
              "      <td>telephone</td>\n",
              "      <td>may</td>\n",
              "      <td>mon</td>\n",
              "      <td>...</td>\n",
              "      <td>1</td>\n",
              "      <td>999</td>\n",
              "      <td>0</td>\n",
              "      <td>nonexistent</td>\n",
              "      <td>1.1</td>\n",
              "      <td>93.994</td>\n",
              "      <td>-36.4</td>\n",
              "      <td>4.857</td>\n",
              "      <td>5191.0</td>\n",
              "      <td>no</td>\n",
              "    </tr>\n",
              "    <tr>\n",
              "      <th>3</th>\n",
              "      <td>40</td>\n",
              "      <td>admin.</td>\n",
              "      <td>married</td>\n",
              "      <td>basic.6y</td>\n",
              "      <td>no</td>\n",
              "      <td>no</td>\n",
              "      <td>no</td>\n",
              "      <td>telephone</td>\n",
              "      <td>may</td>\n",
              "      <td>mon</td>\n",
              "      <td>...</td>\n",
              "      <td>1</td>\n",
              "      <td>999</td>\n",
              "      <td>0</td>\n",
              "      <td>nonexistent</td>\n",
              "      <td>1.1</td>\n",
              "      <td>93.994</td>\n",
              "      <td>-36.4</td>\n",
              "      <td>4.857</td>\n",
              "      <td>5191.0</td>\n",
              "      <td>no</td>\n",
              "    </tr>\n",
              "    <tr>\n",
              "      <th>4</th>\n",
              "      <td>56</td>\n",
              "      <td>services</td>\n",
              "      <td>married</td>\n",
              "      <td>high.school</td>\n",
              "      <td>no</td>\n",
              "      <td>no</td>\n",
              "      <td>yes</td>\n",
              "      <td>telephone</td>\n",
              "      <td>may</td>\n",
              "      <td>mon</td>\n",
              "      <td>...</td>\n",
              "      <td>1</td>\n",
              "      <td>999</td>\n",
              "      <td>0</td>\n",
              "      <td>nonexistent</td>\n",
              "      <td>1.1</td>\n",
              "      <td>93.994</td>\n",
              "      <td>-36.4</td>\n",
              "      <td>4.857</td>\n",
              "      <td>5191.0</td>\n",
              "      <td>no</td>\n",
              "    </tr>\n",
              "    <tr>\n",
              "      <th>5</th>\n",
              "      <td>45</td>\n",
              "      <td>services</td>\n",
              "      <td>married</td>\n",
              "      <td>basic.9y</td>\n",
              "      <td>unknown</td>\n",
              "      <td>no</td>\n",
              "      <td>no</td>\n",
              "      <td>telephone</td>\n",
              "      <td>may</td>\n",
              "      <td>mon</td>\n",
              "      <td>...</td>\n",
              "      <td>1</td>\n",
              "      <td>999</td>\n",
              "      <td>0</td>\n",
              "      <td>nonexistent</td>\n",
              "      <td>1.1</td>\n",
              "      <td>93.994</td>\n",
              "      <td>-36.4</td>\n",
              "      <td>4.857</td>\n",
              "      <td>5191.0</td>\n",
              "      <td>no</td>\n",
              "    </tr>\n",
              "    <tr>\n",
              "      <th>6</th>\n",
              "      <td>59</td>\n",
              "      <td>admin.</td>\n",
              "      <td>married</td>\n",
              "      <td>professional.course</td>\n",
              "      <td>no</td>\n",
              "      <td>no</td>\n",
              "      <td>no</td>\n",
              "      <td>telephone</td>\n",
              "      <td>may</td>\n",
              "      <td>mon</td>\n",
              "      <td>...</td>\n",
              "      <td>1</td>\n",
              "      <td>999</td>\n",
              "      <td>0</td>\n",
              "      <td>nonexistent</td>\n",
              "      <td>1.1</td>\n",
              "      <td>93.994</td>\n",
              "      <td>-36.4</td>\n",
              "      <td>4.857</td>\n",
              "      <td>5191.0</td>\n",
              "      <td>no</td>\n",
              "    </tr>\n",
              "    <tr>\n",
              "      <th>7</th>\n",
              "      <td>41</td>\n",
              "      <td>blue-collar</td>\n",
              "      <td>married</td>\n",
              "      <td>unknown</td>\n",
              "      <td>unknown</td>\n",
              "      <td>no</td>\n",
              "      <td>no</td>\n",
              "      <td>telephone</td>\n",
              "      <td>may</td>\n",
              "      <td>mon</td>\n",
              "      <td>...</td>\n",
              "      <td>1</td>\n",
              "      <td>999</td>\n",
              "      <td>0</td>\n",
              "      <td>nonexistent</td>\n",
              "      <td>1.1</td>\n",
              "      <td>93.994</td>\n",
              "      <td>-36.4</td>\n",
              "      <td>4.857</td>\n",
              "      <td>5191.0</td>\n",
              "      <td>no</td>\n",
              "    </tr>\n",
              "    <tr>\n",
              "      <th>8</th>\n",
              "      <td>24</td>\n",
              "      <td>technician</td>\n",
              "      <td>single</td>\n",
              "      <td>professional.course</td>\n",
              "      <td>no</td>\n",
              "      <td>yes</td>\n",
              "      <td>no</td>\n",
              "      <td>telephone</td>\n",
              "      <td>may</td>\n",
              "      <td>mon</td>\n",
              "      <td>...</td>\n",
              "      <td>1</td>\n",
              "      <td>999</td>\n",
              "      <td>0</td>\n",
              "      <td>nonexistent</td>\n",
              "      <td>1.1</td>\n",
              "      <td>93.994</td>\n",
              "      <td>-36.4</td>\n",
              "      <td>4.857</td>\n",
              "      <td>5191.0</td>\n",
              "      <td>no</td>\n",
              "    </tr>\n",
              "    <tr>\n",
              "      <th>9</th>\n",
              "      <td>25</td>\n",
              "      <td>services</td>\n",
              "      <td>single</td>\n",
              "      <td>high.school</td>\n",
              "      <td>no</td>\n",
              "      <td>yes</td>\n",
              "      <td>no</td>\n",
              "      <td>telephone</td>\n",
              "      <td>may</td>\n",
              "      <td>mon</td>\n",
              "      <td>...</td>\n",
              "      <td>1</td>\n",
              "      <td>999</td>\n",
              "      <td>0</td>\n",
              "      <td>nonexistent</td>\n",
              "      <td>1.1</td>\n",
              "      <td>93.994</td>\n",
              "      <td>-36.4</td>\n",
              "      <td>4.857</td>\n",
              "      <td>5191.0</td>\n",
              "      <td>no</td>\n",
              "    </tr>\n",
              "  </tbody>\n",
              "</table>\n",
              "<p>10 rows × 21 columns</p>\n",
              "</div>\n",
              "    <div class=\"colab-df-buttons\">\n",
              "\n",
              "  <div class=\"colab-df-container\">\n",
              "    <button class=\"colab-df-convert\" onclick=\"convertToInteractive('df-1417e13f-bbe5-46ab-b0a5-4eb766cafab5')\"\n",
              "            title=\"Convert this dataframe to an interactive table.\"\n",
              "            style=\"display:none;\">\n",
              "\n",
              "  <svg xmlns=\"http://www.w3.org/2000/svg\" height=\"24px\" viewBox=\"0 -960 960 960\">\n",
              "    <path d=\"M120-120v-720h720v720H120Zm60-500h600v-160H180v160Zm220 220h160v-160H400v160Zm0 220h160v-160H400v160ZM180-400h160v-160H180v160Zm440 0h160v-160H620v160ZM180-180h160v-160H180v160Zm440 0h160v-160H620v160Z\"/>\n",
              "  </svg>\n",
              "    </button>\n",
              "\n",
              "  <style>\n",
              "    .colab-df-container {\n",
              "      display:flex;\n",
              "      gap: 12px;\n",
              "    }\n",
              "\n",
              "    .colab-df-convert {\n",
              "      background-color: #E8F0FE;\n",
              "      border: none;\n",
              "      border-radius: 50%;\n",
              "      cursor: pointer;\n",
              "      display: none;\n",
              "      fill: #1967D2;\n",
              "      height: 32px;\n",
              "      padding: 0 0 0 0;\n",
              "      width: 32px;\n",
              "    }\n",
              "\n",
              "    .colab-df-convert:hover {\n",
              "      background-color: #E2EBFA;\n",
              "      box-shadow: 0px 1px 2px rgba(60, 64, 67, 0.3), 0px 1px 3px 1px rgba(60, 64, 67, 0.15);\n",
              "      fill: #174EA6;\n",
              "    }\n",
              "\n",
              "    .colab-df-buttons div {\n",
              "      margin-bottom: 4px;\n",
              "    }\n",
              "\n",
              "    [theme=dark] .colab-df-convert {\n",
              "      background-color: #3B4455;\n",
              "      fill: #D2E3FC;\n",
              "    }\n",
              "\n",
              "    [theme=dark] .colab-df-convert:hover {\n",
              "      background-color: #434B5C;\n",
              "      box-shadow: 0px 1px 3px 1px rgba(0, 0, 0, 0.15);\n",
              "      filter: drop-shadow(0px 1px 2px rgba(0, 0, 0, 0.3));\n",
              "      fill: #FFFFFF;\n",
              "    }\n",
              "  </style>\n",
              "\n",
              "    <script>\n",
              "      const buttonEl =\n",
              "        document.querySelector('#df-1417e13f-bbe5-46ab-b0a5-4eb766cafab5 button.colab-df-convert');\n",
              "      buttonEl.style.display =\n",
              "        google.colab.kernel.accessAllowed ? 'block' : 'none';\n",
              "\n",
              "      async function convertToInteractive(key) {\n",
              "        const element = document.querySelector('#df-1417e13f-bbe5-46ab-b0a5-4eb766cafab5');\n",
              "        const dataTable =\n",
              "          await google.colab.kernel.invokeFunction('convertToInteractive',\n",
              "                                                    [key], {});\n",
              "        if (!dataTable) return;\n",
              "\n",
              "        const docLinkHtml = 'Like what you see? Visit the ' +\n",
              "          '<a target=\"_blank\" href=https://colab.research.google.com/notebooks/data_table.ipynb>data table notebook</a>'\n",
              "          + ' to learn more about interactive tables.';\n",
              "        element.innerHTML = '';\n",
              "        dataTable['output_type'] = 'display_data';\n",
              "        await google.colab.output.renderOutput(dataTable, element);\n",
              "        const docLink = document.createElement('div');\n",
              "        docLink.innerHTML = docLinkHtml;\n",
              "        element.appendChild(docLink);\n",
              "      }\n",
              "    </script>\n",
              "  </div>\n",
              "\n",
              "\n",
              "<div id=\"df-a1380905-290f-468a-b0fc-c86ff82b1482\">\n",
              "  <button class=\"colab-df-quickchart\" onclick=\"quickchart('df-a1380905-290f-468a-b0fc-c86ff82b1482')\"\n",
              "            title=\"Suggest charts\"\n",
              "            style=\"display:none;\">\n",
              "\n",
              "<svg xmlns=\"http://www.w3.org/2000/svg\" height=\"24px\"viewBox=\"0 0 24 24\"\n",
              "     width=\"24px\">\n",
              "    <g>\n",
              "        <path d=\"M19 3H5c-1.1 0-2 .9-2 2v14c0 1.1.9 2 2 2h14c1.1 0 2-.9 2-2V5c0-1.1-.9-2-2-2zM9 17H7v-7h2v7zm4 0h-2V7h2v10zm4 0h-2v-4h2v4z\"/>\n",
              "    </g>\n",
              "</svg>\n",
              "  </button>\n",
              "\n",
              "<style>\n",
              "  .colab-df-quickchart {\n",
              "      --bg-color: #E8F0FE;\n",
              "      --fill-color: #1967D2;\n",
              "      --hover-bg-color: #E2EBFA;\n",
              "      --hover-fill-color: #174EA6;\n",
              "      --disabled-fill-color: #AAA;\n",
              "      --disabled-bg-color: #DDD;\n",
              "  }\n",
              "\n",
              "  [theme=dark] .colab-df-quickchart {\n",
              "      --bg-color: #3B4455;\n",
              "      --fill-color: #D2E3FC;\n",
              "      --hover-bg-color: #434B5C;\n",
              "      --hover-fill-color: #FFFFFF;\n",
              "      --disabled-bg-color: #3B4455;\n",
              "      --disabled-fill-color: #666;\n",
              "  }\n",
              "\n",
              "  .colab-df-quickchart {\n",
              "    background-color: var(--bg-color);\n",
              "    border: none;\n",
              "    border-radius: 50%;\n",
              "    cursor: pointer;\n",
              "    display: none;\n",
              "    fill: var(--fill-color);\n",
              "    height: 32px;\n",
              "    padding: 0;\n",
              "    width: 32px;\n",
              "  }\n",
              "\n",
              "  .colab-df-quickchart:hover {\n",
              "    background-color: var(--hover-bg-color);\n",
              "    box-shadow: 0 1px 2px rgba(60, 64, 67, 0.3), 0 1px 3px 1px rgba(60, 64, 67, 0.15);\n",
              "    fill: var(--button-hover-fill-color);\n",
              "  }\n",
              "\n",
              "  .colab-df-quickchart-complete:disabled,\n",
              "  .colab-df-quickchart-complete:disabled:hover {\n",
              "    background-color: var(--disabled-bg-color);\n",
              "    fill: var(--disabled-fill-color);\n",
              "    box-shadow: none;\n",
              "  }\n",
              "\n",
              "  .colab-df-spinner {\n",
              "    border: 2px solid var(--fill-color);\n",
              "    border-color: transparent;\n",
              "    border-bottom-color: var(--fill-color);\n",
              "    animation:\n",
              "      spin 1s steps(1) infinite;\n",
              "  }\n",
              "\n",
              "  @keyframes spin {\n",
              "    0% {\n",
              "      border-color: transparent;\n",
              "      border-bottom-color: var(--fill-color);\n",
              "      border-left-color: var(--fill-color);\n",
              "    }\n",
              "    20% {\n",
              "      border-color: transparent;\n",
              "      border-left-color: var(--fill-color);\n",
              "      border-top-color: var(--fill-color);\n",
              "    }\n",
              "    30% {\n",
              "      border-color: transparent;\n",
              "      border-left-color: var(--fill-color);\n",
              "      border-top-color: var(--fill-color);\n",
              "      border-right-color: var(--fill-color);\n",
              "    }\n",
              "    40% {\n",
              "      border-color: transparent;\n",
              "      border-right-color: var(--fill-color);\n",
              "      border-top-color: var(--fill-color);\n",
              "    }\n",
              "    60% {\n",
              "      border-color: transparent;\n",
              "      border-right-color: var(--fill-color);\n",
              "    }\n",
              "    80% {\n",
              "      border-color: transparent;\n",
              "      border-right-color: var(--fill-color);\n",
              "      border-bottom-color: var(--fill-color);\n",
              "    }\n",
              "    90% {\n",
              "      border-color: transparent;\n",
              "      border-bottom-color: var(--fill-color);\n",
              "    }\n",
              "  }\n",
              "</style>\n",
              "\n",
              "  <script>\n",
              "    async function quickchart(key) {\n",
              "      const quickchartButtonEl =\n",
              "        document.querySelector('#' + key + ' button');\n",
              "      quickchartButtonEl.disabled = true;  // To prevent multiple clicks.\n",
              "      quickchartButtonEl.classList.add('colab-df-spinner');\n",
              "      try {\n",
              "        const charts = await google.colab.kernel.invokeFunction(\n",
              "            'suggestCharts', [key], {});\n",
              "      } catch (error) {\n",
              "        console.error('Error during call to suggestCharts:', error);\n",
              "      }\n",
              "      quickchartButtonEl.classList.remove('colab-df-spinner');\n",
              "      quickchartButtonEl.classList.add('colab-df-quickchart-complete');\n",
              "    }\n",
              "    (() => {\n",
              "      let quickchartButtonEl =\n",
              "        document.querySelector('#df-a1380905-290f-468a-b0fc-c86ff82b1482 button');\n",
              "      quickchartButtonEl.style.display =\n",
              "        google.colab.kernel.accessAllowed ? 'block' : 'none';\n",
              "    })();\n",
              "  </script>\n",
              "</div>\n",
              "\n",
              "    </div>\n",
              "  </div>\n"
            ],
            "text/plain": [
              "   age          job  marital            education  default housing loan  \\\n",
              "0   56    housemaid  married             basic.4y       no      no   no   \n",
              "1   57     services  married          high.school  unknown      no   no   \n",
              "2   37     services  married          high.school       no     yes   no   \n",
              "3   40       admin.  married             basic.6y       no      no   no   \n",
              "4   56     services  married          high.school       no      no  yes   \n",
              "5   45     services  married             basic.9y  unknown      no   no   \n",
              "6   59       admin.  married  professional.course       no      no   no   \n",
              "7   41  blue-collar  married              unknown  unknown      no   no   \n",
              "8   24   technician   single  professional.course       no     yes   no   \n",
              "9   25     services   single          high.school       no     yes   no   \n",
              "\n",
              "     contact month day_of_week  ...  campaign  pdays  previous     poutcome  \\\n",
              "0  telephone   may         mon  ...         1    999         0  nonexistent   \n",
              "1  telephone   may         mon  ...         1    999         0  nonexistent   \n",
              "2  telephone   may         mon  ...         1    999         0  nonexistent   \n",
              "3  telephone   may         mon  ...         1    999         0  nonexistent   \n",
              "4  telephone   may         mon  ...         1    999         0  nonexistent   \n",
              "5  telephone   may         mon  ...         1    999         0  nonexistent   \n",
              "6  telephone   may         mon  ...         1    999         0  nonexistent   \n",
              "7  telephone   may         mon  ...         1    999         0  nonexistent   \n",
              "8  telephone   may         mon  ...         1    999         0  nonexistent   \n",
              "9  telephone   may         mon  ...         1    999         0  nonexistent   \n",
              "\n",
              "  emp.var.rate  cons.price.idx  cons.conf.idx  euribor3m  nr.employed   y  \n",
              "0          1.1          93.994          -36.4      4.857       5191.0  no  \n",
              "1          1.1          93.994          -36.4      4.857       5191.0  no  \n",
              "2          1.1          93.994          -36.4      4.857       5191.0  no  \n",
              "3          1.1          93.994          -36.4      4.857       5191.0  no  \n",
              "4          1.1          93.994          -36.4      4.857       5191.0  no  \n",
              "5          1.1          93.994          -36.4      4.857       5191.0  no  \n",
              "6          1.1          93.994          -36.4      4.857       5191.0  no  \n",
              "7          1.1          93.994          -36.4      4.857       5191.0  no  \n",
              "8          1.1          93.994          -36.4      4.857       5191.0  no  \n",
              "9          1.1          93.994          -36.4      4.857       5191.0  no  \n",
              "\n",
              "[10 rows x 21 columns]"
            ]
          },
          "execution_count": 62,
          "metadata": {},
          "output_type": "execute_result"
        }
      ],
      "source": [
        "#Read the dataset\n",
        "df = pd.read_csv('/content/bank-data.csv')\n",
        "df.head(10)"
      ]
    },
    {
      "cell_type": "markdown",
      "id": "59a5505a",
      "metadata": {
        "id": "59a5505a"
      },
      "source": [
        "### **1. Examining Class Imbalance.**\n",
        "\n",
        "a. Examine the class imbalance in the target column. What is its class distribution? Show this information visually using an appropriate scale. </br>\n",
        "b. What is the degree of imbalance? (Mild/Moderate/Extreme)"
      ]
    },
    {
      "cell_type": "code",
      "execution_count": 63,
      "id": "D3MlGDCx_Q3i",
      "metadata": {
        "colab": {
          "base_uri": "https://localhost:8080/",
          "height": 589
        },
        "id": "D3MlGDCx_Q3i",
        "outputId": "87698783-44a9-47c4-c0aa-45276d7794d2"
      },
      "outputs": [
        {
          "name": "stderr",
          "output_type": "stream",
          "text": [
            "<ipython-input-63-de02a89668a3>:5: FutureWarning: \n",
            "\n",
            "Passing `palette` without assigning `hue` is deprecated and will be removed in v0.14.0. Assign the `x` variable to `hue` and set `legend=False` for the same effect.\n",
            "\n",
            "  ax=sns.barplot(x=value_counts.index, y=value_counts.values, palette='Pastel2')\n"
          ]
        },
        {
          "data": {
            "image/png": "[encoded data removed]",
            "text/plain": [
              "<Figure size 640x480 with 1 Axes>"
            ]
          },
          "metadata": {},
          "output_type": "display_data"
        }
      ],
      "source": [
        "#Your code here\n",
        "sns.set(style=\"whitegrid\")\n",
        "value_counts = df['y'].value_counts(normalize=True)\n",
        "\n",
        "ax=sns.barplot(x=value_counts.index, y=value_counts.values, palette='Pastel2')\n",
        "\n",
        "for p in ax.patches:\n",
        "    ax.annotate(f'{p.get_height()}',\n",
        "                (p.get_x() + p.get_width() / 2., p.get_height()),\n",
        "                ha='center', va='center',\n",
        "                fontsize=12, color='black',\n",
        "                xytext=(0, 5), textcoords='offset points')\n",
        "plt.title('Distribution of y')\n",
        "plt.xlabel('y')\n",
        "plt.ylabel('Count (normalised)')\n",
        "plt.show()"
      ]
    },
    {
      "cell_type": "code",
      "execution_count": 64,
      "id": "c2dfd65b-33e8-4de2-b7fd-2d2a45584240",
      "metadata": {
        "colab": {
          "base_uri": "https://localhost:8080/",
          "height": 589
        },
        "id": "c2dfd65b-33e8-4de2-b7fd-2d2a45584240",
        "outputId": "4aabfee4-a17a-4614-e9cb-2e92a7a9f8f3"
      },
      "outputs": [
        {
          "name": "stderr",
          "output_type": "stream",
          "text": [
            "<ipython-input-64-3576f8006dd2>:5: FutureWarning: \n",
            "\n",
            "Passing `palette` without assigning `hue` is deprecated and will be removed in v0.14.0. Assign the `x` variable to `hue` and set `legend=False` for the same effect.\n",
            "\n",
            "  ax=sns.countplot(x='y', data=df, palette='Pastel2')\n"
          ]
        },
        {
          "data": {
            "image/png": "[encoded data removed]",
            "text/plain": [
              "<Figure size 640x480 with 1 Axes>"
            ]
          },
          "metadata": {},
          "output_type": "display_data"
        }
      ],
      "source": [
        "#Your code here\n",
        "\n",
        "sns.set(style=\"whitegrid\")\n",
        "\n",
        "ax=sns.countplot(x='y', data=df, palette='Pastel2')\n",
        "plt.title('Distribution of y')\n",
        "for p in ax.patches:\n",
        "    ax.annotate(f'{int(p.get_height())}',\n",
        "                (p.get_x() + p.get_width() / 2., p.get_height()),\n",
        "                ha='center', va='center',\n",
        "                fontsize=12, color='black',\n",
        "                xytext=(0, 5), textcoords='offset points')\n",
        "plt.xlabel('y')\n",
        "plt.ylabel('Count (frequency)')\n",
        "plt.show()"
      ]
    },
    {
      "cell_type": "markdown",
      "id": "0G8uXjnHHArK",
      "metadata": {
        "id": "0G8uXjnHHArK"
      },
      "source": [
        "##b\n",
        "\n",
        "There is 4640 'yes' in a total of 41188 data points, which means the percentage of minority class is `(4640/41188)*100 = 11.26%`. Since it is between 10%-30% of the entire dataset, the degree of imbalance is **moderate**."
      ]
    },
    {
      "cell_type": "markdown",
      "id": "d7691793",
      "metadata": {
        "id": "d7691793"
      },
      "source": [
        "### **2. Pre-processing**\n"
      ]
    },
    {
      "cell_type": "markdown",
      "id": "3b1aa387-85d6-47d4-8d50-664f96fa648e",
      "metadata": {
        "id": "3b1aa387-85d6-47d4-8d50-664f96fa648e"
      },
      "source": [
        "a. Split the dataset into development and test sets. What splitting methodology did you choose, and why? </br>\n",
        "b. Encode the categorical variables. </br>\n",
        "c. Scale numerical columns. </br>\n",
        "d. Encode the target variable. </br>\n",
        "e. Print the shape of the development and test set."
      ]
    },
    {
      "cell_type": "code",
      "execution_count": 65,
      "id": "b36c562a",
      "metadata": {
        "colab": {
          "base_uri": "https://localhost:8080/"
        },
        "id": "b36c562a",
        "outputId": "d64367c9-e4f7-4868-fec7-cb659f3df5a5"
      },
      "outputs": [
        {
          "name": "stdout",
          "output_type": "stream",
          "text": [
            "<class 'pandas.core.frame.DataFrame'>\n",
            "RangeIndex: 41188 entries, 0 to 41187\n",
            "Data columns (total 21 columns):\n",
            " #   Column          Non-Null Count  Dtype  \n",
            "---  ------          --------------  -----  \n",
            " 0   age             41188 non-null  int64  \n",
            " 1   job             41188 non-null  object \n",
            " 2   marital         41188 non-null  object \n",
            " 3   education       41188 non-null  object \n",
            " 4   default         41188 non-null  object \n",
            " 5   housing         41188 non-null  object \n",
            " 6   loan            41188 non-null  object \n",
            " 7   contact         41188 non-null  object \n",
            " 8   month           41188 non-null  object \n",
            " 9   day_of_week     41188 non-null  object \n",
            " 10  duration        41188 non-null  int64  \n",
            " 11  campaign        41188 non-null  int64  \n",
            " 12  pdays           41188 non-null  int64  \n",
            " 13  previous        41188 non-null  int64  \n",
            " 14  poutcome        41188 non-null  object \n",
            " 15  emp.var.rate    41188 non-null  float64\n",
            " 16  cons.price.idx  41188 non-null  float64\n",
            " 17  cons.conf.idx   41188 non-null  float64\n",
            " 18  euribor3m       41188 non-null  float64\n",
            " 19  nr.employed     41188 non-null  float64\n",
            " 20  y               41188 non-null  object \n",
            "dtypes: float64(5), int64(5), object(11)\n",
            "memory usage: 6.6+ MB\n"
          ]
        }
      ],
      "source": [
        "#Your code here\n",
        "df.info()"
      ]
    },
    {
      "cell_type": "code",
      "execution_count": 66,
      "id": "Ezg-HnwEJUp_",
      "metadata": {
        "colab": {
          "base_uri": "https://localhost:8080/",
          "height": 743
        },
        "id": "Ezg-HnwEJUp_",
        "outputId": "0c85e8a6-0e12-426c-c2f7-e5f137cd988c"
      },
      "outputs": [
        {
          "data": {
            "text/html": [
              "<div>\n",
              "<style scoped>\n",
              "    .dataframe tbody tr th:only-of-type {\n",
              "        vertical-align: middle;\n",
              "    }\n",
              "\n",
              "    .dataframe tbody tr th {\n",
              "        vertical-align: top;\n",
              "    }\n",
              "\n",
              "    .dataframe thead th {\n",
              "        text-align: right;\n",
              "    }\n",
              "</style>\n",
              "<table border=\"1\" class=\"dataframe\">\n",
              "  <thead>\n",
              "    <tr style=\"text-align: right;\">\n",
              "      <th></th>\n",
              "      <th>0</th>\n",
              "    </tr>\n",
              "  </thead>\n",
              "  <tbody>\n",
              "    <tr>\n",
              "      <th>age</th>\n",
              "      <td>0</td>\n",
              "    </tr>\n",
              "    <tr>\n",
              "      <th>job</th>\n",
              "      <td>0</td>\n",
              "    </tr>\n",
              "    <tr>\n",
              "      <th>marital</th>\n",
              "      <td>0</td>\n",
              "    </tr>\n",
              "    <tr>\n",
              "      <th>education</th>\n",
              "      <td>0</td>\n",
              "    </tr>\n",
              "    <tr>\n",
              "      <th>default</th>\n",
              "      <td>0</td>\n",
              "    </tr>\n",
              "    <tr>\n",
              "      <th>housing</th>\n",
              "      <td>0</td>\n",
              "    </tr>\n",
              "    <tr>\n",
              "      <th>loan</th>\n",
              "      <td>0</td>\n",
              "    </tr>\n",
              "    <tr>\n",
              "      <th>contact</th>\n",
              "      <td>0</td>\n",
              "    </tr>\n",
              "    <tr>\n",
              "      <th>month</th>\n",
              "      <td>0</td>\n",
              "    </tr>\n",
              "    <tr>\n",
              "      <th>day_of_week</th>\n",
              "      <td>0</td>\n",
              "    </tr>\n",
              "    <tr>\n",
              "      <th>duration</th>\n",
              "      <td>0</td>\n",
              "    </tr>\n",
              "    <tr>\n",
              "      <th>campaign</th>\n",
              "      <td>0</td>\n",
              "    </tr>\n",
              "    <tr>\n",
              "      <th>pdays</th>\n",
              "      <td>0</td>\n",
              "    </tr>\n",
              "    <tr>\n",
              "      <th>previous</th>\n",
              "      <td>0</td>\n",
              "    </tr>\n",
              "    <tr>\n",
              "      <th>poutcome</th>\n",
              "      <td>0</td>\n",
              "    </tr>\n",
              "    <tr>\n",
              "      <th>emp.var.rate</th>\n",
              "      <td>0</td>\n",
              "    </tr>\n",
              "    <tr>\n",
              "      <th>cons.price.idx</th>\n",
              "      <td>0</td>\n",
              "    </tr>\n",
              "    <tr>\n",
              "      <th>cons.conf.idx</th>\n",
              "      <td>0</td>\n",
              "    </tr>\n",
              "    <tr>\n",
              "      <th>euribor3m</th>\n",
              "      <td>0</td>\n",
              "    </tr>\n",
              "    <tr>\n",
              "      <th>nr.employed</th>\n",
              "      <td>0</td>\n",
              "    </tr>\n",
              "    <tr>\n",
              "      <th>y</th>\n",
              "      <td>0</td>\n",
              "    </tr>\n",
              "  </tbody>\n",
              "</table>\n",
              "</div><br><label><b>dtype:</b> int64</label>"
            ],
            "text/plain": [
              "age               0\n",
              "job               0\n",
              "marital           0\n",
              "education         0\n",
              "default           0\n",
              "housing           0\n",
              "loan              0\n",
              "contact           0\n",
              "month             0\n",
              "day_of_week       0\n",
              "duration          0\n",
              "campaign          0\n",
              "pdays             0\n",
              "previous          0\n",
              "poutcome          0\n",
              "emp.var.rate      0\n",
              "cons.price.idx    0\n",
              "cons.conf.idx     0\n",
              "euribor3m         0\n",
              "nr.employed       0\n",
              "y                 0\n",
              "dtype: int64"
            ]
          },
          "execution_count": 66,
          "metadata": {},
          "output_type": "execute_result"
        }
      ],
      "source": [
        "df.isnull().sum()"
      ]
    },
    {
      "cell_type": "code",
      "execution_count": 67,
      "id": "QMIClPxXKX4e",
      "metadata": {
        "id": "QMIClPxXKX4e"
      },
      "outputs": [],
      "source": [
        "categorical_features=[]\n",
        "for x in df.columns:\n",
        "  if df[x].dtype=='object':\n",
        "    categorical_features.append(x)\n",
        "\n",
        "categorical_features = categorical_features[:-1] ## exclude 'y'\n"
      ]
    },
    {
      "cell_type": "code",
      "execution_count": 68,
      "id": "uCKqt8dzGIJg",
      "metadata": {
        "colab": {
          "base_uri": "https://localhost:8080/",
          "height": 444
        },
        "id": "uCKqt8dzGIJg",
        "outputId": "498217c2-55e1-4179-ecf1-7e2c6ae8ec71"
      },
      "outputs": [
        {
          "data": {
            "application/vnd.google.colaboratory.intrinsic+json": {
              "type": "dataframe",
              "variable_name": "df"
            },
            "text/html": [
              "\n",
              "  <div id=\"df-ac6bb62e-2cfd-40bb-a804-0f3ffbd59222\" class=\"colab-df-container\">\n",
              "    <div>\n",
              "<style scoped>\n",
              "    .dataframe tbody tr th:only-of-type {\n",
              "        vertical-align: middle;\n",
              "    }\n",
              "\n",
              "    .dataframe tbody tr th {\n",
              "        vertical-align: top;\n",
              "    }\n",
              "\n",
              "    .dataframe thead th {\n",
              "        text-align: right;\n",
              "    }\n",
              "</style>\n",
              "<table border=\"1\" class=\"dataframe\">\n",
              "  <thead>\n",
              "    <tr style=\"text-align: right;\">\n",
              "      <th></th>\n",
              "      <th>age</th>\n",
              "      <th>duration</th>\n",
              "      <th>campaign</th>\n",
              "      <th>pdays</th>\n",
              "      <th>previous</th>\n",
              "      <th>emp.var.rate</th>\n",
              "      <th>cons.price.idx</th>\n",
              "      <th>cons.conf.idx</th>\n",
              "      <th>euribor3m</th>\n",
              "      <th>nr.employed</th>\n",
              "      <th>...</th>\n",
              "      <th>month_oct</th>\n",
              "      <th>month_sep</th>\n",
              "      <th>day_of_week_fri</th>\n",
              "      <th>day_of_week_mon</th>\n",
              "      <th>day_of_week_thu</th>\n",
              "      <th>day_of_week_tue</th>\n",
              "      <th>day_of_week_wed</th>\n",
              "      <th>poutcome_failure</th>\n",
              "      <th>poutcome_nonexistent</th>\n",
              "      <th>poutcome_success</th>\n",
              "    </tr>\n",
              "  </thead>\n",
              "  <tbody>\n",
              "    <tr>\n",
              "      <th>0</th>\n",
              "      <td>56</td>\n",
              "      <td>261</td>\n",
              "      <td>1</td>\n",
              "      <td>999</td>\n",
              "      <td>0</td>\n",
              "      <td>1.1</td>\n",
              "      <td>93.994</td>\n",
              "      <td>-36.4</td>\n",
              "      <td>4.857</td>\n",
              "      <td>5191.0</td>\n",
              "      <td>...</td>\n",
              "      <td>0.0</td>\n",
              "      <td>0.0</td>\n",
              "      <td>0.0</td>\n",
              "      <td>1.0</td>\n",
              "      <td>0.0</td>\n",
              "      <td>0.0</td>\n",
              "      <td>0.0</td>\n",
              "      <td>0.0</td>\n",
              "      <td>1.0</td>\n",
              "      <td>0.0</td>\n",
              "    </tr>\n",
              "    <tr>\n",
              "      <th>1</th>\n",
              "      <td>57</td>\n",
              "      <td>149</td>\n",
              "      <td>1</td>\n",
              "      <td>999</td>\n",
              "      <td>0</td>\n",
              "      <td>1.1</td>\n",
              "      <td>93.994</td>\n",
              "      <td>-36.4</td>\n",
              "      <td>4.857</td>\n",
              "      <td>5191.0</td>\n",
              "      <td>...</td>\n",
              "      <td>0.0</td>\n",
              "      <td>0.0</td>\n",
              "      <td>0.0</td>\n",
              "      <td>1.0</td>\n",
              "      <td>0.0</td>\n",
              "      <td>0.0</td>\n",
              "      <td>0.0</td>\n",
              "      <td>0.0</td>\n",
              "      <td>1.0</td>\n",
              "      <td>0.0</td>\n",
              "    </tr>\n",
              "    <tr>\n",
              "      <th>2</th>\n",
              "      <td>37</td>\n",
              "      <td>226</td>\n",
              "      <td>1</td>\n",
              "      <td>999</td>\n",
              "      <td>0</td>\n",
              "      <td>1.1</td>\n",
              "      <td>93.994</td>\n",
              "      <td>-36.4</td>\n",
              "      <td>4.857</td>\n",
              "      <td>5191.0</td>\n",
              "      <td>...</td>\n",
              "      <td>0.0</td>\n",
              "      <td>0.0</td>\n",
              "      <td>0.0</td>\n",
              "      <td>1.0</td>\n",
              "      <td>0.0</td>\n",
              "      <td>0.0</td>\n",
              "      <td>0.0</td>\n",
              "      <td>0.0</td>\n",
              "      <td>1.0</td>\n",
              "      <td>0.0</td>\n",
              "    </tr>\n",
              "    <tr>\n",
              "      <th>3</th>\n",
              "      <td>40</td>\n",
              "      <td>151</td>\n",
              "      <td>1</td>\n",
              "      <td>999</td>\n",
              "      <td>0</td>\n",
              "      <td>1.1</td>\n",
              "      <td>93.994</td>\n",
              "      <td>-36.4</td>\n",
              "      <td>4.857</td>\n",
              "      <td>5191.0</td>\n",
              "      <td>...</td>\n",
              "      <td>0.0</td>\n",
              "      <td>0.0</td>\n",
              "      <td>0.0</td>\n",
              "      <td>1.0</td>\n",
              "      <td>0.0</td>\n",
              "      <td>0.0</td>\n",
              "      <td>0.0</td>\n",
              "      <td>0.0</td>\n",
              "      <td>1.0</td>\n",
              "      <td>0.0</td>\n",
              "    </tr>\n",
              "    <tr>\n",
              "      <th>4</th>\n",
              "      <td>56</td>\n",
              "      <td>307</td>\n",
              "      <td>1</td>\n",
              "      <td>999</td>\n",
              "      <td>0</td>\n",
              "      <td>1.1</td>\n",
              "      <td>93.994</td>\n",
              "      <td>-36.4</td>\n",
              "      <td>4.857</td>\n",
              "      <td>5191.0</td>\n",
              "      <td>...</td>\n",
              "      <td>0.0</td>\n",
              "      <td>0.0</td>\n",
              "      <td>0.0</td>\n",
              "      <td>1.0</td>\n",
              "      <td>0.0</td>\n",
              "      <td>0.0</td>\n",
              "      <td>0.0</td>\n",
              "      <td>0.0</td>\n",
              "      <td>1.0</td>\n",
              "      <td>0.0</td>\n",
              "    </tr>\n",
              "    <tr>\n",
              "      <th>...</th>\n",
              "      <td>...</td>\n",
              "      <td>...</td>\n",
              "      <td>...</td>\n",
              "      <td>...</td>\n",
              "      <td>...</td>\n",
              "      <td>...</td>\n",
              "      <td>...</td>\n",
              "      <td>...</td>\n",
              "      <td>...</td>\n",
              "      <td>...</td>\n",
              "      <td>...</td>\n",
              "      <td>...</td>\n",
              "      <td>...</td>\n",
              "      <td>...</td>\n",
              "      <td>...</td>\n",
              "      <td>...</td>\n",
              "      <td>...</td>\n",
              "      <td>...</td>\n",
              "      <td>...</td>\n",
              "      <td>...</td>\n",
              "      <td>...</td>\n",
              "    </tr>\n",
              "    <tr>\n",
              "      <th>41183</th>\n",
              "      <td>73</td>\n",
              "      <td>334</td>\n",
              "      <td>1</td>\n",
              "      <td>999</td>\n",
              "      <td>0</td>\n",
              "      <td>-1.1</td>\n",
              "      <td>94.767</td>\n",
              "      <td>-50.8</td>\n",
              "      <td>1.028</td>\n",
              "      <td>4963.6</td>\n",
              "      <td>...</td>\n",
              "      <td>0.0</td>\n",
              "      <td>0.0</td>\n",
              "      <td>1.0</td>\n",
              "      <td>0.0</td>\n",
              "      <td>0.0</td>\n",
              "      <td>0.0</td>\n",
              "      <td>0.0</td>\n",
              "      <td>0.0</td>\n",
              "      <td>1.0</td>\n",
              "      <td>0.0</td>\n",
              "    </tr>\n",
              "    <tr>\n",
              "      <th>41184</th>\n",
              "      <td>46</td>\n",
              "      <td>383</td>\n",
              "      <td>1</td>\n",
              "      <td>999</td>\n",
              "      <td>0</td>\n",
              "      <td>-1.1</td>\n",
              "      <td>94.767</td>\n",
              "      <td>-50.8</td>\n",
              "      <td>1.028</td>\n",
              "      <td>4963.6</td>\n",
              "      <td>...</td>\n",
              "      <td>0.0</td>\n",
              "      <td>0.0</td>\n",
              "      <td>1.0</td>\n",
              "      <td>0.0</td>\n",
              "      <td>0.0</td>\n",
              "      <td>0.0</td>\n",
              "      <td>0.0</td>\n",
              "      <td>0.0</td>\n",
              "      <td>1.0</td>\n",
              "      <td>0.0</td>\n",
              "    </tr>\n",
              "    <tr>\n",
              "      <th>41185</th>\n",
              "      <td>56</td>\n",
              "      <td>189</td>\n",
              "      <td>2</td>\n",
              "      <td>999</td>\n",
              "      <td>0</td>\n",
              "      <td>-1.1</td>\n",
              "      <td>94.767</td>\n",
              "      <td>-50.8</td>\n",
              "      <td>1.028</td>\n",
              "      <td>4963.6</td>\n",
              "      <td>...</td>\n",
              "      <td>0.0</td>\n",
              "      <td>0.0</td>\n",
              "      <td>1.0</td>\n",
              "      <td>0.0</td>\n",
              "      <td>0.0</td>\n",
              "      <td>0.0</td>\n",
              "      <td>0.0</td>\n",
              "      <td>0.0</td>\n",
              "      <td>1.0</td>\n",
              "      <td>0.0</td>\n",
              "    </tr>\n",
              "    <tr>\n",
              "      <th>41186</th>\n",
              "      <td>44</td>\n",
              "      <td>442</td>\n",
              "      <td>1</td>\n",
              "      <td>999</td>\n",
              "      <td>0</td>\n",
              "      <td>-1.1</td>\n",
              "      <td>94.767</td>\n",
              "      <td>-50.8</td>\n",
              "      <td>1.028</td>\n",
              "      <td>4963.6</td>\n",
              "      <td>...</td>\n",
              "      <td>0.0</td>\n",
              "      <td>0.0</td>\n",
              "      <td>1.0</td>\n",
              "      <td>0.0</td>\n",
              "      <td>0.0</td>\n",
              "      <td>0.0</td>\n",
              "      <td>0.0</td>\n",
              "      <td>0.0</td>\n",
              "      <td>1.0</td>\n",
              "      <td>0.0</td>\n",
              "    </tr>\n",
              "    <tr>\n",
              "      <th>41187</th>\n",
              "      <td>74</td>\n",
              "      <td>239</td>\n",
              "      <td>3</td>\n",
              "      <td>999</td>\n",
              "      <td>1</td>\n",
              "      <td>-1.1</td>\n",
              "      <td>94.767</td>\n",
              "      <td>-50.8</td>\n",
              "      <td>1.028</td>\n",
              "      <td>4963.6</td>\n",
              "      <td>...</td>\n",
              "      <td>0.0</td>\n",
              "      <td>0.0</td>\n",
              "      <td>1.0</td>\n",
              "      <td>0.0</td>\n",
              "      <td>0.0</td>\n",
              "      <td>0.0</td>\n",
              "      <td>0.0</td>\n",
              "      <td>1.0</td>\n",
              "      <td>0.0</td>\n",
              "      <td>0.0</td>\n",
              "    </tr>\n",
              "  </tbody>\n",
              "</table>\n",
              "<p>41188 rows × 64 columns</p>\n",
              "</div>\n",
              "    <div class=\"colab-df-buttons\">\n",
              "\n",
              "  <div class=\"colab-df-container\">\n",
              "    <button class=\"colab-df-convert\" onclick=\"convertToInteractive('df-ac6bb62e-2cfd-40bb-a804-0f3ffbd59222')\"\n",
              "            title=\"Convert this dataframe to an interactive table.\"\n",
              "            style=\"display:none;\">\n",
              "\n",
              "  <svg xmlns=\"http://www.w3.org/2000/svg\" height=\"24px\" viewBox=\"0 -960 960 960\">\n",
              "    <path d=\"M120-120v-720h720v720H120Zm60-500h600v-160H180v160Zm220 220h160v-160H400v160Zm0 220h160v-160H400v160ZM180-400h160v-160H180v160Zm440 0h160v-160H620v160ZM180-180h160v-160H180v160Zm440 0h160v-160H620v160Z\"/>\n",
              "  </svg>\n",
              "    </button>\n",
              "\n",
              "  <style>\n",
              "    .colab-df-container {\n",
              "      display:flex;\n",
              "      gap: 12px;\n",
              "    }\n",
              "\n",
              "    .colab-df-convert {\n",
              "      background-color: #E8F0FE;\n",
              "      border: none;\n",
              "      border-radius: 50%;\n",
              "      cursor: pointer;\n",
              "      display: none;\n",
              "      fill: #1967D2;\n",
              "      height: 32px;\n",
              "      padding: 0 0 0 0;\n",
              "      width: 32px;\n",
              "    }\n",
              "\n",
              "    .colab-df-convert:hover {\n",
              "      background-color: #E2EBFA;\n",
              "      box-shadow: 0px 1px 2px rgba(60, 64, 67, 0.3), 0px 1px 3px 1px rgba(60, 64, 67, 0.15);\n",
              "      fill: #174EA6;\n",
              "    }\n",
              "\n",
              "    .colab-df-buttons div {\n",
              "      margin-bottom: 4px;\n",
              "    }\n",
              "\n",
              "    [theme=dark] .colab-df-convert {\n",
              "      background-color: #3B4455;\n",
              "      fill: #D2E3FC;\n",
              "    }\n",
              "\n",
              "    [theme=dark] .colab-df-convert:hover {\n",
              "      background-color: #434B5C;\n",
              "      box-shadow: 0px 1px 3px 1px rgba(0, 0, 0, 0.15);\n",
              "      filter: drop-shadow(0px 1px 2px rgba(0, 0, 0, 0.3));\n",
              "      fill: #FFFFFF;\n",
              "    }\n",
              "  </style>\n",
              "\n",
              "    <script>\n",
              "      const buttonEl =\n",
              "        document.querySelector('#df-ac6bb62e-2cfd-40bb-a804-0f3ffbd59222 button.colab-df-convert');\n",
              "      buttonEl.style.display =\n",
              "        google.colab.kernel.accessAllowed ? 'block' : 'none';\n",
              "\n",
              "      async function convertToInteractive(key) {\n",
              "        const element = document.querySelector('#df-ac6bb62e-2cfd-40bb-a804-0f3ffbd59222');\n",
              "        const dataTable =\n",
              "          await google.colab.kernel.invokeFunction('convertToInteractive',\n",
              "                                                    [key], {});\n",
              "        if (!dataTable) return;\n",
              "\n",
              "        const docLinkHtml = 'Like what you see? Visit the ' +\n",
              "          '<a target=\"_blank\" href=https://colab.research.google.com/notebooks/data_table.ipynb>data table notebook</a>'\n",
              "          + ' to learn more about interactive tables.';\n",
              "        element.innerHTML = '';\n",
              "        dataTable['output_type'] = 'display_data';\n",
              "        await google.colab.output.renderOutput(dataTable, element);\n",
              "        const docLink = document.createElement('div');\n",
              "        docLink.innerHTML = docLinkHtml;\n",
              "        element.appendChild(docLink);\n",
              "      }\n",
              "    </script>\n",
              "  </div>\n",
              "\n",
              "\n",
              "<div id=\"df-0ba91c97-204d-419f-848c-db346f21cee0\">\n",
              "  <button class=\"colab-df-quickchart\" onclick=\"quickchart('df-0ba91c97-204d-419f-848c-db346f21cee0')\"\n",
              "            title=\"Suggest charts\"\n",
              "            style=\"display:none;\">\n",
              "\n",
              "<svg xmlns=\"http://www.w3.org/2000/svg\" height=\"24px\"viewBox=\"0 0 24 24\"\n",
              "     width=\"24px\">\n",
              "    <g>\n",
              "        <path d=\"M19 3H5c-1.1 0-2 .9-2 2v14c0 1.1.9 2 2 2h14c1.1 0 2-.9 2-2V5c0-1.1-.9-2-2-2zM9 17H7v-7h2v7zm4 0h-2V7h2v10zm4 0h-2v-4h2v4z\"/>\n",
              "    </g>\n",
              "</svg>\n",
              "  </button>\n",
              "\n",
              "<style>\n",
              "  .colab-df-quickchart {\n",
              "      --bg-color: #E8F0FE;\n",
              "      --fill-color: #1967D2;\n",
              "      --hover-bg-color: #E2EBFA;\n",
              "      --hover-fill-color: #174EA6;\n",
              "      --disabled-fill-color: #AAA;\n",
              "      --disabled-bg-color: #DDD;\n",
              "  }\n",
              "\n",
              "  [theme=dark] .colab-df-quickchart {\n",
              "      --bg-color: #3B4455;\n",
              "      --fill-color: #D2E3FC;\n",
              "      --hover-bg-color: #434B5C;\n",
              "      --hover-fill-color: #FFFFFF;\n",
              "      --disabled-bg-color: #3B4455;\n",
              "      --disabled-fill-color: #666;\n",
              "  }\n",
              "\n",
              "  .colab-df-quickchart {\n",
              "    background-color: var(--bg-color);\n",
              "    border: none;\n",
              "    border-radius: 50%;\n",
              "    cursor: pointer;\n",
              "    display: none;\n",
              "    fill: var(--fill-color);\n",
              "    height: 32px;\n",
              "    padding: 0;\n",
              "    width: 32px;\n",
              "  }\n",
              "\n",
              "  .colab-df-quickchart:hover {\n",
              "    background-color: var(--hover-bg-color);\n",
              "    box-shadow: 0 1px 2px rgba(60, 64, 67, 0.3), 0 1px 3px 1px rgba(60, 64, 67, 0.15);\n",
              "    fill: var(--button-hover-fill-color);\n",
              "  }\n",
              "\n",
              "  .colab-df-quickchart-complete:disabled,\n",
              "  .colab-df-quickchart-complete:disabled:hover {\n",
              "    background-color: var(--disabled-bg-color);\n",
              "    fill: var(--disabled-fill-color);\n",
              "    box-shadow: none;\n",
              "  }\n",
              "\n",
              "  .colab-df-spinner {\n",
              "    border: 2px solid var(--fill-color);\n",
              "    border-color: transparent;\n",
              "    border-bottom-color: var(--fill-color);\n",
              "    animation:\n",
              "      spin 1s steps(1) infinite;\n",
              "  }\n",
              "\n",
              "  @keyframes spin {\n",
              "    0% {\n",
              "      border-color: transparent;\n",
              "      border-bottom-color: var(--fill-color);\n",
              "      border-left-color: var(--fill-color);\n",
              "    }\n",
              "    20% {\n",
              "      border-color: transparent;\n",
              "      border-left-color: var(--fill-color);\n",
              "      border-top-color: var(--fill-color);\n",
              "    }\n",
              "    30% {\n",
              "      border-color: transparent;\n",
              "      border-left-color: var(--fill-color);\n",
              "      border-top-color: var(--fill-color);\n",
              "      border-right-color: var(--fill-color);\n",
              "    }\n",
              "    40% {\n",
              "      border-color: transparent;\n",
              "      border-right-color: var(--fill-color);\n",
              "      border-top-color: var(--fill-color);\n",
              "    }\n",
              "    60% {\n",
              "      border-color: transparent;\n",
              "      border-right-color: var(--fill-color);\n",
              "    }\n",
              "    80% {\n",
              "      border-color: transparent;\n",
              "      border-right-color: var(--fill-color);\n",
              "      border-bottom-color: var(--fill-color);\n",
              "    }\n",
              "    90% {\n",
              "      border-color: transparent;\n",
              "      border-bottom-color: var(--fill-color);\n",
              "    }\n",
              "  }\n",
              "</style>\n",
              "\n",
              "  <script>\n",
              "    async function quickchart(key) {\n",
              "      const quickchartButtonEl =\n",
              "        document.querySelector('#' + key + ' button');\n",
              "      quickchartButtonEl.disabled = true;  // To prevent multiple clicks.\n",
              "      quickchartButtonEl.classList.add('colab-df-spinner');\n",
              "      try {\n",
              "        const charts = await google.colab.kernel.invokeFunction(\n",
              "            'suggestCharts', [key], {});\n",
              "      } catch (error) {\n",
              "        console.error('Error during call to suggestCharts:', error);\n",
              "      }\n",
              "      quickchartButtonEl.classList.remove('colab-df-spinner');\n",
              "      quickchartButtonEl.classList.add('colab-df-quickchart-complete');\n",
              "    }\n",
              "    (() => {\n",
              "      let quickchartButtonEl =\n",
              "        document.querySelector('#df-0ba91c97-204d-419f-848c-db346f21cee0 button');\n",
              "      quickchartButtonEl.style.display =\n",
              "        google.colab.kernel.accessAllowed ? 'block' : 'none';\n",
              "    })();\n",
              "  </script>\n",
              "</div>\n",
              "\n",
              "  <div id=\"id_a7bf991b-0f6c-4b63-af7a-9d04c2d80463\">\n",
              "    <style>\n",
              "      .colab-df-generate {\n",
              "        background-color: #E8F0FE;\n",
              "        border: none;\n",
              "        border-radius: 50%;\n",
              "        cursor: pointer;\n",
              "        display: none;\n",
              "        fill: #1967D2;\n",
              "        height: 32px;\n",
              "        padding: 0 0 0 0;\n",
              "        width: 32px;\n",
              "      }\n",
              "\n",
              "      .colab-df-generate:hover {\n",
              "        background-color: #E2EBFA;\n",
              "        box-shadow: 0px 1px 2px rgba(60, 64, 67, 0.3), 0px 1px 3px 1px rgba(60, 64, 67, 0.15);\n",
              "        fill: #174EA6;\n",
              "      }\n",
              "\n",
              "      [theme=dark] .colab-df-generate {\n",
              "        background-color: #3B4455;\n",
              "        fill: #D2E3FC;\n",
              "      }\n",
              "\n",
              "      [theme=dark] .colab-df-generate:hover {\n",
              "        background-color: #434B5C;\n",
              "        box-shadow: 0px 1px 3px 1px rgba(0, 0, 0, 0.15);\n",
              "        filter: drop-shadow(0px 1px 2px rgba(0, 0, 0, 0.3));\n",
              "        fill: #FFFFFF;\n",
              "      }\n",
              "    </style>\n",
              "    <button class=\"colab-df-generate\" onclick=\"generateWithVariable('df')\"\n",
              "            title=\"Generate code using this dataframe.\"\n",
              "            style=\"display:none;\">\n",
              "\n",
              "  <svg xmlns=\"http://www.w3.org/2000/svg\" height=\"24px\"viewBox=\"0 0 24 24\"\n",
              "       width=\"24px\">\n",
              "    <path d=\"M7,19H8.4L18.45,9,17,7.55,7,17.6ZM5,21V16.75L18.45,3.32a2,2,0,0,1,2.83,0l1.4,1.43a1.91,1.91,0,0,1,.58,1.4,1.91,1.91,0,0,1-.58,1.4L9.25,21ZM18.45,9,17,7.55Zm-12,3A5.31,5.31,0,0,0,4.9,8.1,5.31,5.31,0,0,0,1,6.5,5.31,5.31,0,0,0,4.9,4.9,5.31,5.31,0,0,0,6.5,1,5.31,5.31,0,0,0,8.1,4.9,5.31,5.31,0,0,0,12,6.5,5.46,5.46,0,0,0,6.5,12Z\"/>\n",
              "  </svg>\n",
              "    </button>\n",
              "    <script>\n",
              "      (() => {\n",
              "      const buttonEl =\n",
              "        document.querySelector('#id_a7bf991b-0f6c-4b63-af7a-9d04c2d80463 button.colab-df-generate');\n",
              "      buttonEl.style.display =\n",
              "        google.colab.kernel.accessAllowed ? 'block' : 'none';\n",
              "\n",
              "      buttonEl.onclick = () => {\n",
              "        google.colab.notebook.generateWithVariable('df');\n",
              "      }\n",
              "      })();\n",
              "    </script>\n",
              "  </div>\n",
              "\n",
              "    </div>\n",
              "  </div>\n"
            ],
            "text/plain": [
              "       age  duration  campaign  pdays  previous  emp.var.rate  cons.price.idx  \\\n",
              "0       56       261         1    999         0           1.1          93.994   \n",
              "1       57       149         1    999         0           1.1          93.994   \n",
              "2       37       226         1    999         0           1.1          93.994   \n",
              "3       40       151         1    999         0           1.1          93.994   \n",
              "4       56       307         1    999         0           1.1          93.994   \n",
              "...    ...       ...       ...    ...       ...           ...             ...   \n",
              "41183   73       334         1    999         0          -1.1          94.767   \n",
              "41184   46       383         1    999         0          -1.1          94.767   \n",
              "41185   56       189         2    999         0          -1.1          94.767   \n",
              "41186   44       442         1    999         0          -1.1          94.767   \n",
              "41187   74       239         3    999         1          -1.1          94.767   \n",
              "\n",
              "       cons.conf.idx  euribor3m  nr.employed  ... month_oct  month_sep  \\\n",
              "0              -36.4      4.857       5191.0  ...       0.0        0.0   \n",
              "1              -36.4      4.857       5191.0  ...       0.0        0.0   \n",
              "2              -36.4      4.857       5191.0  ...       0.0        0.0   \n",
              "3              -36.4      4.857       5191.0  ...       0.0        0.0   \n",
              "4              -36.4      4.857       5191.0  ...       0.0        0.0   \n",
              "...              ...        ...          ...  ...       ...        ...   \n",
              "41183          -50.8      1.028       4963.6  ...       0.0        0.0   \n",
              "41184          -50.8      1.028       4963.6  ...       0.0        0.0   \n",
              "41185          -50.8      1.028       4963.6  ...       0.0        0.0   \n",
              "41186          -50.8      1.028       4963.6  ...       0.0        0.0   \n",
              "41187          -50.8      1.028       4963.6  ...       0.0        0.0   \n",
              "\n",
              "       day_of_week_fri  day_of_week_mon  day_of_week_thu  day_of_week_tue  \\\n",
              "0                  0.0              1.0              0.0              0.0   \n",
              "1                  0.0              1.0              0.0              0.0   \n",
              "2                  0.0              1.0              0.0              0.0   \n",
              "3                  0.0              1.0              0.0              0.0   \n",
              "4                  0.0              1.0              0.0              0.0   \n",
              "...                ...              ...              ...              ...   \n",
              "41183              1.0              0.0              0.0              0.0   \n",
              "41184              1.0              0.0              0.0              0.0   \n",
              "41185              1.0              0.0              0.0              0.0   \n",
              "41186              1.0              0.0              0.0              0.0   \n",
              "41187              1.0              0.0              0.0              0.0   \n",
              "\n",
              "       day_of_week_wed  poutcome_failure  poutcome_nonexistent  \\\n",
              "0                  0.0               0.0                   1.0   \n",
              "1                  0.0               0.0                   1.0   \n",
              "2                  0.0               0.0                   1.0   \n",
              "3                  0.0               0.0                   1.0   \n",
              "4                  0.0               0.0                   1.0   \n",
              "...                ...               ...                   ...   \n",
              "41183              0.0               0.0                   1.0   \n",
              "41184              0.0               0.0                   1.0   \n",
              "41185              0.0               0.0                   1.0   \n",
              "41186              0.0               0.0                   1.0   \n",
              "41187              0.0               1.0                   0.0   \n",
              "\n",
              "       poutcome_success  \n",
              "0                   0.0  \n",
              "1                   0.0  \n",
              "2                   0.0  \n",
              "3                   0.0  \n",
              "4                   0.0  \n",
              "...                 ...  \n",
              "41183               0.0  \n",
              "41184               0.0  \n",
              "41185               0.0  \n",
              "41186               0.0  \n",
              "41187               0.0  \n",
              "\n",
              "[41188 rows x 64 columns]"
            ]
          },
          "execution_count": 68,
          "metadata": {},
          "output_type": "execute_result"
        }
      ],
      "source": [
        "encoder = OneHotEncoder(sparse_output=False)\n",
        "encoded_values = encoder.fit_transform(df[categorical_features])\n",
        "\n",
        "encoded_df = pd.DataFrame(encoded_values, columns=encoder.get_feature_names_out(categorical_features))\n",
        "\n",
        "df = pd.concat([df.drop(columns=categorical_features), encoded_df], axis=1)\n",
        "\n",
        "df"
      ]
    },
    {
      "cell_type": "code",
      "execution_count": 69,
      "id": "Fy01D3h9P1pn",
      "metadata": {
        "colab": {
          "base_uri": "https://localhost:8080/",
          "height": 256
        },
        "id": "Fy01D3h9P1pn",
        "outputId": "cf729d0b-9f1d-4f69-88ae-bb6bd0bffb53"
      },
      "outputs": [
        {
          "data": {
            "application/vnd.google.colaboratory.intrinsic+json": {
              "type": "dataframe",
              "variable_name": "df"
            },
            "text/html": [
              "\n",
              "  <div id=\"df-1fadbcc8-a325-4e58-b855-d429c0808fea\" class=\"colab-df-container\">\n",
              "    <div>\n",
              "<style scoped>\n",
              "    .dataframe tbody tr th:only-of-type {\n",
              "        vertical-align: middle;\n",
              "    }\n",
              "\n",
              "    .dataframe tbody tr th {\n",
              "        vertical-align: top;\n",
              "    }\n",
              "\n",
              "    .dataframe thead th {\n",
              "        text-align: right;\n",
              "    }\n",
              "</style>\n",
              "<table border=\"1\" class=\"dataframe\">\n",
              "  <thead>\n",
              "    <tr style=\"text-align: right;\">\n",
              "      <th></th>\n",
              "      <th>age</th>\n",
              "      <th>duration</th>\n",
              "      <th>campaign</th>\n",
              "      <th>pdays</th>\n",
              "      <th>previous</th>\n",
              "      <th>emp.var.rate</th>\n",
              "      <th>cons.price.idx</th>\n",
              "      <th>cons.conf.idx</th>\n",
              "      <th>euribor3m</th>\n",
              "      <th>nr.employed</th>\n",
              "      <th>...</th>\n",
              "      <th>month_oct</th>\n",
              "      <th>month_sep</th>\n",
              "      <th>day_of_week_fri</th>\n",
              "      <th>day_of_week_mon</th>\n",
              "      <th>day_of_week_thu</th>\n",
              "      <th>day_of_week_tue</th>\n",
              "      <th>day_of_week_wed</th>\n",
              "      <th>poutcome_failure</th>\n",
              "      <th>poutcome_nonexistent</th>\n",
              "      <th>poutcome_success</th>\n",
              "    </tr>\n",
              "  </thead>\n",
              "  <tbody>\n",
              "    <tr>\n",
              "      <th>0</th>\n",
              "      <td>56</td>\n",
              "      <td>261</td>\n",
              "      <td>1</td>\n",
              "      <td>999</td>\n",
              "      <td>0</td>\n",
              "      <td>1.1</td>\n",
              "      <td>93.994</td>\n",
              "      <td>-36.4</td>\n",
              "      <td>4.857</td>\n",
              "      <td>5191.0</td>\n",
              "      <td>...</td>\n",
              "      <td>0.0</td>\n",
              "      <td>0.0</td>\n",
              "      <td>0.0</td>\n",
              "      <td>1.0</td>\n",
              "      <td>0.0</td>\n",
              "      <td>0.0</td>\n",
              "      <td>0.0</td>\n",
              "      <td>0.0</td>\n",
              "      <td>1.0</td>\n",
              "      <td>0.0</td>\n",
              "    </tr>\n",
              "    <tr>\n",
              "      <th>1</th>\n",
              "      <td>57</td>\n",
              "      <td>149</td>\n",
              "      <td>1</td>\n",
              "      <td>999</td>\n",
              "      <td>0</td>\n",
              "      <td>1.1</td>\n",
              "      <td>93.994</td>\n",
              "      <td>-36.4</td>\n",
              "      <td>4.857</td>\n",
              "      <td>5191.0</td>\n",
              "      <td>...</td>\n",
              "      <td>0.0</td>\n",
              "      <td>0.0</td>\n",
              "      <td>0.0</td>\n",
              "      <td>1.0</td>\n",
              "      <td>0.0</td>\n",
              "      <td>0.0</td>\n",
              "      <td>0.0</td>\n",
              "      <td>0.0</td>\n",
              "      <td>1.0</td>\n",
              "      <td>0.0</td>\n",
              "    </tr>\n",
              "    <tr>\n",
              "      <th>2</th>\n",
              "      <td>37</td>\n",
              "      <td>226</td>\n",
              "      <td>1</td>\n",
              "      <td>999</td>\n",
              "      <td>0</td>\n",
              "      <td>1.1</td>\n",
              "      <td>93.994</td>\n",
              "      <td>-36.4</td>\n",
              "      <td>4.857</td>\n",
              "      <td>5191.0</td>\n",
              "      <td>...</td>\n",
              "      <td>0.0</td>\n",
              "      <td>0.0</td>\n",
              "      <td>0.0</td>\n",
              "      <td>1.0</td>\n",
              "      <td>0.0</td>\n",
              "      <td>0.0</td>\n",
              "      <td>0.0</td>\n",
              "      <td>0.0</td>\n",
              "      <td>1.0</td>\n",
              "      <td>0.0</td>\n",
              "    </tr>\n",
              "    <tr>\n",
              "      <th>3</th>\n",
              "      <td>40</td>\n",
              "      <td>151</td>\n",
              "      <td>1</td>\n",
              "      <td>999</td>\n",
              "      <td>0</td>\n",
              "      <td>1.1</td>\n",
              "      <td>93.994</td>\n",
              "      <td>-36.4</td>\n",
              "      <td>4.857</td>\n",
              "      <td>5191.0</td>\n",
              "      <td>...</td>\n",
              "      <td>0.0</td>\n",
              "      <td>0.0</td>\n",
              "      <td>0.0</td>\n",
              "      <td>1.0</td>\n",
              "      <td>0.0</td>\n",
              "      <td>0.0</td>\n",
              "      <td>0.0</td>\n",
              "      <td>0.0</td>\n",
              "      <td>1.0</td>\n",
              "      <td>0.0</td>\n",
              "    </tr>\n",
              "    <tr>\n",
              "      <th>4</th>\n",
              "      <td>56</td>\n",
              "      <td>307</td>\n",
              "      <td>1</td>\n",
              "      <td>999</td>\n",
              "      <td>0</td>\n",
              "      <td>1.1</td>\n",
              "      <td>93.994</td>\n",
              "      <td>-36.4</td>\n",
              "      <td>4.857</td>\n",
              "      <td>5191.0</td>\n",
              "      <td>...</td>\n",
              "      <td>0.0</td>\n",
              "      <td>0.0</td>\n",
              "      <td>0.0</td>\n",
              "      <td>1.0</td>\n",
              "      <td>0.0</td>\n",
              "      <td>0.0</td>\n",
              "      <td>0.0</td>\n",
              "      <td>0.0</td>\n",
              "      <td>1.0</td>\n",
              "      <td>0.0</td>\n",
              "    </tr>\n",
              "  </tbody>\n",
              "</table>\n",
              "<p>5 rows × 64 columns</p>\n",
              "</div>\n",
              "    <div class=\"colab-df-buttons\">\n",
              "\n",
              "  <div class=\"colab-df-container\">\n",
              "    <button class=\"colab-df-convert\" onclick=\"convertToInteractive('df-1fadbcc8-a325-4e58-b855-d429c0808fea')\"\n",
              "            title=\"Convert this dataframe to an interactive table.\"\n",
              "            style=\"display:none;\">\n",
              "\n",
              "  <svg xmlns=\"http://www.w3.org/2000/svg\" height=\"24px\" viewBox=\"0 -960 960 960\">\n",
              "    <path d=\"M120-120v-720h720v720H120Zm60-500h600v-160H180v160Zm220 220h160v-160H400v160Zm0 220h160v-160H400v160ZM180-400h160v-160H180v160Zm440 0h160v-160H620v160ZM180-180h160v-160H180v160Zm440 0h160v-160H620v160Z\"/>\n",
              "  </svg>\n",
              "    </button>\n",
              "\n",
              "  <style>\n",
              "    .colab-df-container {\n",
              "      display:flex;\n",
              "      gap: 12px;\n",
              "    }\n",
              "\n",
              "    .colab-df-convert {\n",
              "      background-color: #E8F0FE;\n",
              "      border: none;\n",
              "      border-radius: 50%;\n",
              "      cursor: pointer;\n",
              "      display: none;\n",
              "      fill: #1967D2;\n",
              "      height: 32px;\n",
              "      padding: 0 0 0 0;\n",
              "      width: 32px;\n",
              "    }\n",
              "\n",
              "    .colab-df-convert:hover {\n",
              "      background-color: #E2EBFA;\n",
              "      box-shadow: 0px 1px 2px rgba(60, 64, 67, 0.3), 0px 1px 3px 1px rgba(60, 64, 67, 0.15);\n",
              "      fill: #174EA6;\n",
              "    }\n",
              "\n",
              "    .colab-df-buttons div {\n",
              "      margin-bottom: 4px;\n",
              "    }\n",
              "\n",
              "    [theme=dark] .colab-df-convert {\n",
              "      background-color: #3B4455;\n",
              "      fill: #D2E3FC;\n",
              "    }\n",
              "\n",
              "    [theme=dark] .colab-df-convert:hover {\n",
              "      background-color: #434B5C;\n",
              "      box-shadow: 0px 1px 3px 1px rgba(0, 0, 0, 0.15);\n",
              "      filter: drop-shadow(0px 1px 2px rgba(0, 0, 0, 0.3));\n",
              "      fill: #FFFFFF;\n",
              "    }\n",
              "  </style>\n",
              "\n",
              "    <script>\n",
              "      const buttonEl =\n",
              "        document.querySelector('#df-1fadbcc8-a325-4e58-b855-d429c0808fea button.colab-df-convert');\n",
              "      buttonEl.style.display =\n",
              "        google.colab.kernel.accessAllowed ? 'block' : 'none';\n",
              "\n",
              "      async function convertToInteractive(key) {\n",
              "        const element = document.querySelector('#df-1fadbcc8-a325-4e58-b855-d429c0808fea');\n",
              "        const dataTable =\n",
              "          await google.colab.kernel.invokeFunction('convertToInteractive',\n",
              "                                                    [key], {});\n",
              "        if (!dataTable) return;\n",
              "\n",
              "        const docLinkHtml = 'Like what you see? Visit the ' +\n",
              "          '<a target=\"_blank\" href=https://colab.research.google.com/notebooks/data_table.ipynb>data table notebook</a>'\n",
              "          + ' to learn more about interactive tables.';\n",
              "        element.innerHTML = '';\n",
              "        dataTable['output_type'] = 'display_data';\n",
              "        await google.colab.output.renderOutput(dataTable, element);\n",
              "        const docLink = document.createElement('div');\n",
              "        docLink.innerHTML = docLinkHtml;\n",
              "        element.appendChild(docLink);\n",
              "      }\n",
              "    </script>\n",
              "  </div>\n",
              "\n",
              "\n",
              "<div id=\"df-b45fd1fa-aba8-44bf-9ae3-6c503a3f0ba2\">\n",
              "  <button class=\"colab-df-quickchart\" onclick=\"quickchart('df-b45fd1fa-aba8-44bf-9ae3-6c503a3f0ba2')\"\n",
              "            title=\"Suggest charts\"\n",
              "            style=\"display:none;\">\n",
              "\n",
              "<svg xmlns=\"http://www.w3.org/2000/svg\" height=\"24px\"viewBox=\"0 0 24 24\"\n",
              "     width=\"24px\">\n",
              "    <g>\n",
              "        <path d=\"M19 3H5c-1.1 0-2 .9-2 2v14c0 1.1.9 2 2 2h14c1.1 0 2-.9 2-2V5c0-1.1-.9-2-2-2zM9 17H7v-7h2v7zm4 0h-2V7h2v10zm4 0h-2v-4h2v4z\"/>\n",
              "    </g>\n",
              "</svg>\n",
              "  </button>\n",
              "\n",
              "<style>\n",
              "  .colab-df-quickchart {\n",
              "      --bg-color: #E8F0FE;\n",
              "      --fill-color: #1967D2;\n",
              "      --hover-bg-color: #E2EBFA;\n",
              "      --hover-fill-color: #174EA6;\n",
              "      --disabled-fill-color: #AAA;\n",
              "      --disabled-bg-color: #DDD;\n",
              "  }\n",
              "\n",
              "  [theme=dark] .colab-df-quickchart {\n",
              "      --bg-color: #3B4455;\n",
              "      --fill-color: #D2E3FC;\n",
              "      --hover-bg-color: #434B5C;\n",
              "      --hover-fill-color: #FFFFFF;\n",
              "      --disabled-bg-color: #3B4455;\n",
              "      --disabled-fill-color: #666;\n",
              "  }\n",
              "\n",
              "  .colab-df-quickchart {\n",
              "    background-color: var(--bg-color);\n",
              "    border: none;\n",
              "    border-radius: 50%;\n",
              "    cursor: pointer;\n",
              "    display: none;\n",
              "    fill: var(--fill-color);\n",
              "    height: 32px;\n",
              "    padding: 0;\n",
              "    width: 32px;\n",
              "  }\n",
              "\n",
              "  .colab-df-quickchart:hover {\n",
              "    background-color: var(--hover-bg-color);\n",
              "    box-shadow: 0 1px 2px rgba(60, 64, 67, 0.3), 0 1px 3px 1px rgba(60, 64, 67, 0.15);\n",
              "    fill: var(--button-hover-fill-color);\n",
              "  }\n",
              "\n",
              "  .colab-df-quickchart-complete:disabled,\n",
              "  .colab-df-quickchart-complete:disabled:hover {\n",
              "    background-color: var(--disabled-bg-color);\n",
              "    fill: var(--disabled-fill-color);\n",
              "    box-shadow: none;\n",
              "  }\n",
              "\n",
              "  .colab-df-spinner {\n",
              "    border: 2px solid var(--fill-color);\n",
              "    border-color: transparent;\n",
              "    border-bottom-color: var(--fill-color);\n",
              "    animation:\n",
              "      spin 1s steps(1) infinite;\n",
              "  }\n",
              "\n",
              "  @keyframes spin {\n",
              "    0% {\n",
              "      border-color: transparent;\n",
              "      border-bottom-color: var(--fill-color);\n",
              "      border-left-color: var(--fill-color);\n",
              "    }\n",
              "    20% {\n",
              "      border-color: transparent;\n",
              "      border-left-color: var(--fill-color);\n",
              "      border-top-color: var(--fill-color);\n",
              "    }\n",
              "    30% {\n",
              "      border-color: transparent;\n",
              "      border-left-color: var(--fill-color);\n",
              "      border-top-color: var(--fill-color);\n",
              "      border-right-color: var(--fill-color);\n",
              "    }\n",
              "    40% {\n",
              "      border-color: transparent;\n",
              "      border-right-color: var(--fill-color);\n",
              "      border-top-color: var(--fill-color);\n",
              "    }\n",
              "    60% {\n",
              "      border-color: transparent;\n",
              "      border-right-color: var(--fill-color);\n",
              "    }\n",
              "    80% {\n",
              "      border-color: transparent;\n",
              "      border-right-color: var(--fill-color);\n",
              "      border-bottom-color: var(--fill-color);\n",
              "    }\n",
              "    90% {\n",
              "      border-color: transparent;\n",
              "      border-bottom-color: var(--fill-color);\n",
              "    }\n",
              "  }\n",
              "</style>\n",
              "\n",
              "  <script>\n",
              "    async function quickchart(key) {\n",
              "      const quickchartButtonEl =\n",
              "        document.querySelector('#' + key + ' button');\n",
              "      quickchartButtonEl.disabled = true;  // To prevent multiple clicks.\n",
              "      quickchartButtonEl.classList.add('colab-df-spinner');\n",
              "      try {\n",
              "        const charts = await google.colab.kernel.invokeFunction(\n",
              "            'suggestCharts', [key], {});\n",
              "      } catch (error) {\n",
              "        console.error('Error during call to suggestCharts:', error);\n",
              "      }\n",
              "      quickchartButtonEl.classList.remove('colab-df-spinner');\n",
              "      quickchartButtonEl.classList.add('colab-df-quickchart-complete');\n",
              "    }\n",
              "    (() => {\n",
              "      let quickchartButtonEl =\n",
              "        document.querySelector('#df-b45fd1fa-aba8-44bf-9ae3-6c503a3f0ba2 button');\n",
              "      quickchartButtonEl.style.display =\n",
              "        google.colab.kernel.accessAllowed ? 'block' : 'none';\n",
              "    })();\n",
              "  </script>\n",
              "</div>\n",
              "\n",
              "    </div>\n",
              "  </div>\n"
            ],
            "text/plain": [
              "   age  duration  campaign  pdays  previous  emp.var.rate  cons.price.idx  \\\n",
              "0   56       261         1    999         0           1.1          93.994   \n",
              "1   57       149         1    999         0           1.1          93.994   \n",
              "2   37       226         1    999         0           1.1          93.994   \n",
              "3   40       151         1    999         0           1.1          93.994   \n",
              "4   56       307         1    999         0           1.1          93.994   \n",
              "\n",
              "   cons.conf.idx  euribor3m  nr.employed  ...  month_oct  month_sep  \\\n",
              "0          -36.4      4.857       5191.0  ...        0.0        0.0   \n",
              "1          -36.4      4.857       5191.0  ...        0.0        0.0   \n",
              "2          -36.4      4.857       5191.0  ...        0.0        0.0   \n",
              "3          -36.4      4.857       5191.0  ...        0.0        0.0   \n",
              "4          -36.4      4.857       5191.0  ...        0.0        0.0   \n",
              "\n",
              "   day_of_week_fri  day_of_week_mon  day_of_week_thu  day_of_week_tue  \\\n",
              "0              0.0              1.0              0.0              0.0   \n",
              "1              0.0              1.0              0.0              0.0   \n",
              "2              0.0              1.0              0.0              0.0   \n",
              "3              0.0              1.0              0.0              0.0   \n",
              "4              0.0              1.0              0.0              0.0   \n",
              "\n",
              "   day_of_week_wed  poutcome_failure  poutcome_nonexistent  poutcome_success  \n",
              "0              0.0               0.0                   1.0               0.0  \n",
              "1              0.0               0.0                   1.0               0.0  \n",
              "2              0.0               0.0                   1.0               0.0  \n",
              "3              0.0               0.0                   1.0               0.0  \n",
              "4              0.0               0.0                   1.0               0.0  \n",
              "\n",
              "[5 rows x 64 columns]"
            ]
          },
          "execution_count": 69,
          "metadata": {},
          "output_type": "execute_result"
        }
      ],
      "source": [
        "df['y'] = df['y'].map({'yes': 1, 'no': 0})\n",
        "df.head()"
      ]
    },
    {
      "cell_type": "code",
      "execution_count": 70,
      "id": "xfusZm7EQC52",
      "metadata": {
        "colab": {
          "base_uri": "https://localhost:8080/"
        },
        "id": "xfusZm7EQC52",
        "outputId": "6064917e-711e-46e9-fc16-42ec770a0c88"
      },
      "outputs": [
        {
          "name": "stdout",
          "output_type": "stream",
          "text": [
            "<class 'pandas.core.frame.DataFrame'>\n",
            "RangeIndex: 41188 entries, 0 to 41187\n",
            "Data columns (total 64 columns):\n",
            " #   Column                         Non-Null Count  Dtype  \n",
            "---  ------                         --------------  -----  \n",
            " 0   age                            41188 non-null  int64  \n",
            " 1   duration                       41188 non-null  int64  \n",
            " 2   campaign                       41188 non-null  int64  \n",
            " 3   pdays                          41188 non-null  int64  \n",
            " 4   previous                       41188 non-null  int64  \n",
            " 5   emp.var.rate                   41188 non-null  float64\n",
            " 6   cons.price.idx                 41188 non-null  float64\n",
            " 7   cons.conf.idx                  41188 non-null  float64\n",
            " 8   euribor3m                      41188 non-null  float64\n",
            " 9   nr.employed                    41188 non-null  float64\n",
            " 10  y                              41188 non-null  int64  \n",
            " 11  job_admin.                     41188 non-null  float64\n",
            " 12  job_blue-collar                41188 non-null  float64\n",
            " 13  job_entrepreneur               41188 non-null  float64\n",
            " 14  job_housemaid                  41188 non-null  float64\n",
            " 15  job_management                 41188 non-null  float64\n",
            " 16  job_retired                    41188 non-null  float64\n",
            " 17  job_self-employed              41188 non-null  float64\n",
            " 18  job_services                   41188 non-null  float64\n",
            " 19  job_student                    41188 non-null  float64\n",
            " 20  job_technician                 41188 non-null  float64\n",
            " 21  job_unemployed                 41188 non-null  float64\n",
            " 22  job_unknown                    41188 non-null  float64\n",
            " 23  marital_divorced               41188 non-null  float64\n",
            " 24  marital_married                41188 non-null  float64\n",
            " 25  marital_single                 41188 non-null  float64\n",
            " 26  marital_unknown                41188 non-null  float64\n",
            " 27  education_basic.4y             41188 non-null  float64\n",
            " 28  education_basic.6y             41188 non-null  float64\n",
            " 29  education_basic.9y             41188 non-null  float64\n",
            " 30  education_high.school          41188 non-null  float64\n",
            " 31  education_illiterate           41188 non-null  float64\n",
            " 32  education_professional.course  41188 non-null  float64\n",
            " 33  education_university.degree    41188 non-null  float64\n",
            " 34  education_unknown              41188 non-null  float64\n",
            " 35  default_no                     41188 non-null  float64\n",
            " 36  default_unknown                41188 non-null  float64\n",
            " 37  default_yes                    41188 non-null  float64\n",
            " 38  housing_no                     41188 non-null  float64\n",
            " 39  housing_unknown                41188 non-null  float64\n",
            " 40  housing_yes                    41188 non-null  float64\n",
            " 41  loan_no                        41188 non-null  float64\n",
            " 42  loan_unknown                   41188 non-null  float64\n",
            " 43  loan_yes                       41188 non-null  float64\n",
            " 44  contact_cellular               41188 non-null  float64\n",
            " 45  contact_telephone              41188 non-null  float64\n",
            " 46  month_apr                      41188 non-null  float64\n",
            " 47  month_aug                      41188 non-null  float64\n",
            " 48  month_dec                      41188 non-null  float64\n",
            " 49  month_jul                      41188 non-null  float64\n",
            " 50  month_jun                      41188 non-null  float64\n",
            " 51  month_mar                      41188 non-null  float64\n",
            " 52  month_may                      41188 non-null  float64\n",
            " 53  month_nov                      41188 non-null  float64\n",
            " 54  month_oct                      41188 non-null  float64\n",
            " 55  month_sep                      41188 non-null  float64\n",
            " 56  day_of_week_fri                41188 non-null  float64\n",
            " 57  day_of_week_mon                41188 non-null  float64\n",
            " 58  day_of_week_thu                41188 non-null  float64\n",
            " 59  day_of_week_tue                41188 non-null  float64\n",
            " 60  day_of_week_wed                41188 non-null  float64\n",
            " 61  poutcome_failure               41188 non-null  float64\n",
            " 62  poutcome_nonexistent           41188 non-null  float64\n",
            " 63  poutcome_success               41188 non-null  float64\n",
            "dtypes: float64(58), int64(6)\n",
            "memory usage: 20.1 MB\n"
          ]
        }
      ],
      "source": [
        "df.info()"
      ]
    },
    {
      "cell_type": "code",
      "execution_count": 71,
      "id": "QgQvISThQNBN",
      "metadata": {
        "id": "QgQvISThQNBN"
      },
      "outputs": [],
      "source": [
        "X = df.drop(columns=['y'])\n",
        "y = df['y']\n",
        "\n",
        "X_train, X_test, y_train, y_test = train_test_split(\n",
        "    X, y, test_size=0.2, random_state=42, stratify=y\n",
        ")"
      ]
    },
    {
      "cell_type": "code",
      "execution_count": 72,
      "id": "n_3g8Q4fRBsn",
      "metadata": {
        "colab": {
          "base_uri": "https://localhost:8080/"
        },
        "id": "n_3g8Q4fRBsn",
        "outputId": "51f08f83-cb7e-40bd-f07a-b5e39f7bfb3c"
      },
      "outputs": [
        {
          "name": "stdout",
          "output_type": "stream",
          "text": [
            "Shape of the development set\n",
            "Shape of X: (32950, 63)\n",
            "Shape of y majority class (y='no' or 0): (29238,)\n",
            "Shape of y minority class (y='yes' or 1): (3712,)\n",
            "Proportion of y:\n",
            " y\n",
            "0    0.887344\n",
            "1    0.112656\n",
            "Name: proportion, dtype: float64\n",
            "\n",
            "\n",
            "Shape of the test set\n",
            "Shape of X: (8238, 63)\n",
            "Shape of y majority class (y='no' or 0): (7310,)\n",
            "Shape of y minority class (y='yes' or 1): (928,)\n",
            "Proportion of y:\n",
            " y\n",
            "0    0.887351\n",
            "1    0.112649\n",
            "Name: proportion, dtype: float64\n"
          ]
        }
      ],
      "source": [
        "\n",
        "print(\"Shape of the development set\")\n",
        "print(f\"Shape of X: {X_train.shape}\")\n",
        "print(f\"Shape of y majority class (y='no' or 0): {y_train[y_train==0].shape}\")\n",
        "print(f\"Shape of y minority class (y='yes' or 1): {y_train[y_train==1].shape}\")\n",
        "print(f\"Proportion of y:\\n {y_train.value_counts(normalize=True)}\")\n",
        "\n",
        "\n",
        "print(\"\\n\\nShape of the test set\")\n",
        "print(f\"Shape of X: {X_test.shape}\")\n",
        "print(f\"Shape of y majority class (y='no' or 0): {y_test[y_test==0].shape}\")\n",
        "print(f\"Shape of y minority class (y='yes' or 1): {y_test[y_test==1].shape}\")\n",
        "print(f\"Proportion of y:\\n {y_test.value_counts(normalize=True)}\")"
      ]
    },
    {
      "cell_type": "code",
      "execution_count": 73,
      "id": "KMp0pj39TIga",
      "metadata": {
        "colab": {
          "base_uri": "https://localhost:8080/"
        },
        "id": "KMp0pj39TIga",
        "outputId": "5fd7dc38-8e24-42da-b6c6-37167f15c1f3"
      },
      "outputs": [
        {
          "data": {
            "text/plain": [
              "array([[ 0.86373877, -0.12019627,  0.52298128, ..., -0.34081462,\n",
              "         0.39944711, -0.18627755],\n",
              "       [-0.28972159, -0.2167318 , -0.20368791, ...,  2.93414647,\n",
              "        -2.50346033, -0.18627755],\n",
              "       [ 3.65126795,  3.43617293, -0.56702251, ..., -0.34081462,\n",
              "         0.39944711, -0.18627755],\n",
              "       ...,\n",
              "       [ 1.34434725, -0.49089273,  0.52298128, ..., -0.34081462,\n",
              "         0.39944711, -0.18627755],\n",
              "       [-1.05869515, -0.3596044 , -0.56702251, ..., -0.34081462,\n",
              "         0.39944711, -0.18627755],\n",
              "       [-0.48196498,  1.10387435,  0.15964669, ..., -0.34081462,\n",
              "         0.39944711, -0.18627755]])"
            ]
          },
          "execution_count": 73,
          "metadata": {},
          "output_type": "execute_result"
        }
      ],
      "source": [
        "ss=StandardScaler()\n",
        "X_train_std=ss.fit_transform(X_train)\n",
        "X_test_std=ss.transform(X_test)\n",
        "X_train_std"
      ]
    },
    {
      "cell_type": "markdown",
      "id": "VrXJb1CAaHU0",
      "metadata": {
        "id": "VrXJb1CAaHU0"
      },
      "source": [
        "## Comment"
      ]
    },
    {
      "cell_type": "markdown",
      "id": "VQ2VR-qbUfWb",
      "metadata": {
        "id": "VQ2VR-qbUfWb"
      },
      "source": [
        "The splitting technique used is 'stratified' as there's moderate imbalance in the target feature. This ensures that the proportion of the presence of majority and minority classes in the dataset is maintained in both the development and test sets.\n",
        "\n",
        "Development set:  ```(3712/32950)*100 = 11.26%```\n",
        "\n",
        "\n",
        "Test set: ```(928/8238)*100 = 11.26%```\n",
        "\n",
        "Whole dataset: ```(4640/41188)*100 = 11.26%```\n",
        "\n",
        "\n",
        "I've applied SMOTE, Random Oversampling and Random Undersampling on unscaled data and then scaled it when passing it as input for fitting the Decision Tree model, as there is a possibility that scaling before applying these techniques might disrupt the distribution (Standard Scaler).\n"
      ]
    },
    {
      "cell_type": "markdown",
      "id": "14cc6570",
      "metadata": {
        "id": "14cc6570"
      },
      "source": [
        "### 3.1 Default Dataset\n",
        "Use the Decision tree classifier (use max_depth=10 and random_state=42) model and print the AUC and Average Precision values of 5 Fold Cross Validation </br>"
      ]
    },
    {
      "cell_type": "code",
      "execution_count": 74,
      "id": "bd14ae8d",
      "metadata": {
        "colab": {
          "base_uri": "https://localhost:8080/"
        },
        "id": "bd14ae8d",
        "outputId": "970f0e42-b885-4798-82a4-0e77a637a7f7"
      },
      "outputs": [
        {
          "data": {
            "text/plain": [
              "{'fit_time': array([0.23988986, 0.23798537, 0.20144582, 0.20774341, 0.19902563]),\n",
              " 'score_time': array([0.01334   , 0.00627065, 0.00623155, 0.00718331, 0.00671721]),\n",
              " 'test_roc_auc': array([0.8637376 , 0.86078925, 0.84397919, 0.85131785, 0.86606768]),\n",
              " 'test_average_precision': array([0.53076612, 0.52713769, 0.47904721, 0.51471149, 0.5402459 ])}"
            ]
          },
          "execution_count": 74,
          "metadata": {},
          "output_type": "execute_result"
        }
      ],
      "source": [
        "#Your Code Here\n",
        "d={'default':[], 'balanced':[], 'random_oversampling':[], 'random_undersampling':[], 'smote':[]}\n",
        "scores=cross_validate(DecisionTreeClassifier(max_depth=10, random_state=42), X_train_std, y_train,\n",
        "                      cv=5, scoring=[\"roc_auc\", \"average_precision\"])\n",
        "scores"
      ]
    },
    {
      "cell_type": "code",
      "execution_count": 75,
      "id": "icMYAvg6CDqv",
      "metadata": {
        "colab": {
          "base_uri": "https://localhost:8080/"
        },
        "id": "icMYAvg6CDqv",
        "outputId": "32ca0c70-7c73-4da9-8b75-deb923e3c142"
      },
      "outputs": [
        {
          "data": {
            "text/plain": [
              "(np.float64(0.5183816817418755), np.float64(0.8571783127134701))"
            ]
          },
          "execution_count": 75,
          "metadata": {},
          "output_type": "execute_result"
        }
      ],
      "source": [
        "d['default'].append(scores['test_roc_auc'].mean())\n",
        "scores['test_average_precision'].mean(), scores['test_roc_auc'].mean()"
      ]
    },
    {
      "cell_type": "markdown",
      "id": "5fd85d4f",
      "metadata": {
        "id": "5fd85d4f"
      },
      "source": [
        "### 3.2 Balanced Weight\n",
        "\n",
        "a. Here, we are going to use a 'balanced' decision tree clasifier on the same dataset. Use max_depth=10 and random_state=42, and then print the AUC and Average Precision values of 5 Fold Cross Validation."
      ]
    },
    {
      "cell_type": "code",
      "execution_count": 76,
      "id": "68beb98f",
      "metadata": {
        "colab": {
          "base_uri": "https://localhost:8080/"
        },
        "id": "68beb98f",
        "outputId": "3671777e-c3bd-4991-bcb9-f06b470795d0"
      },
      "outputs": [
        {
          "data": {
            "text/plain": [
              "{'fit_time': array([0.20627117, 0.20127845, 0.18556714, 0.20728755, 0.19439173]),\n",
              " 'score_time': array([0.00762272, 0.00627923, 0.00650334, 0.00613999, 0.00609517]),\n",
              " 'test_roc_auc': array([0.89391886, 0.89695662, 0.88990004, 0.87799831, 0.8728074 ]),\n",
              " 'test_average_precision': array([0.58064464, 0.58634398, 0.5370929 , 0.53713986, 0.57358949])}"
            ]
          },
          "execution_count": 76,
          "metadata": {},
          "output_type": "execute_result"
        }
      ],
      "source": [
        "#Your Code Here\n",
        "scores=cross_validate(DecisionTreeClassifier(class_weight='balanced', max_depth=10, random_state=42), X_train_std, y_train,\n",
        "                      cv=5, scoring=[\"roc_auc\", \"average_precision\"])\n",
        "scores"
      ]
    },
    {
      "cell_type": "code",
      "execution_count": 77,
      "id": "JkoSwDZzC75l",
      "metadata": {
        "colab": {
          "base_uri": "https://localhost:8080/"
        },
        "id": "JkoSwDZzC75l",
        "outputId": "0033dbbd-b35a-47ef-852b-5efc491f260a"
      },
      "outputs": [
        {
          "data": {
            "text/plain": [
              "(np.float64(0.5629621752074714), np.float64(0.8863162440802936))"
            ]
          },
          "execution_count": 77,
          "metadata": {},
          "output_type": "execute_result"
        }
      ],
      "source": [
        "d['balanced'].append(scores['test_roc_auc'].mean())\n",
        "scores['test_average_precision'].mean(), scores['test_roc_auc'].mean()"
      ]
    },
    {
      "cell_type": "markdown",
      "id": "7b5675c9",
      "metadata": {
        "id": "7b5675c9"
      },
      "source": [
        "### 3.3 Random Oversampling\n",
        "\n",
        "a. Perform random oversampling on the development dataset. (Please set random state to 42 while doing this).\n",
        "Examine the target column again. What is its class distribution now? Print the shape of the development set. </br>\n",
        "\n",
        "b. Repeat part 3.1 again. Use the Decision tree classifier (use max_depth=10 and random_state=42) model and print the AUC and Average Precision values of 5 Fold Cross Validation"
      ]
    },
    {
      "cell_type": "code",
      "execution_count": 78,
      "id": "cde016c3",
      "metadata": {
        "colab": {
          "base_uri": "https://localhost:8080/"
        },
        "id": "cde016c3",
        "outputId": "de32986c-af02-49ac-8f4a-09e79caeb09f"
      },
      "outputs": [
        {
          "name": "stdout",
          "output_type": "stream",
          "text": [
            "(58476, 63)\n",
            "y\n",
            "0    29238\n",
            "1    29238\n",
            "Name: count, dtype: int64\n"
          ]
        }
      ],
      "source": [
        "#Your Code Here\n",
        "ros=RandomOverSampler(random_state=42)\n",
        "X_train_ros, y_train_ros=ros.fit_resample(X_train, y_train)\n",
        "\n",
        "X_train_ros=ss.fit_transform(X_train_ros)\n",
        "X_test_ros=ss.transform(X_test)\n",
        "\n",
        "print(X_train_ros.shape)\n",
        "print(y_train_ros.value_counts())"
      ]
    },
    {
      "cell_type": "code",
      "execution_count": 79,
      "id": "fc2318e2",
      "metadata": {
        "colab": {
          "base_uri": "https://localhost:8080/"
        },
        "id": "fc2318e2",
        "outputId": "6af3d75b-deae-44ab-98b9-d2dc0ca47d3b"
      },
      "outputs": [
        {
          "data": {
            "text/plain": [
              "{'fit_time': array([0.42078304, 0.36806846, 0.35363817, 0.35043263, 0.39728975]),\n",
              " 'score_time': array([0.01904893, 0.00853014, 0.008322  , 0.00834346, 0.01260257]),\n",
              " 'test_roc_auc': array([0.95622992, 0.95560461, 0.95239272, 0.95326415, 0.95257479]),\n",
              " 'test_average_precision': array([0.93518714, 0.93085165, 0.92755288, 0.92880013, 0.92426813])}"
            ]
          },
          "execution_count": 79,
          "metadata": {},
          "output_type": "execute_result"
        }
      ],
      "source": [
        "#Your Code Here\n",
        "\n",
        "scores=cross_validate(DecisionTreeClassifier(max_depth=10, random_state=42), X_train_ros, y_train_ros,\n",
        "                      cv=5, scoring=[\"roc_auc\", \"average_precision\"])\n",
        "scores"
      ]
    },
    {
      "cell_type": "code",
      "execution_count": 80,
      "id": "PfaeVNplFP7i",
      "metadata": {
        "colab": {
          "base_uri": "https://localhost:8080/"
        },
        "id": "PfaeVNplFP7i",
        "outputId": "18ac8bd7-e3bc-4a33-c00d-1205f2837b5d"
      },
      "outputs": [
        {
          "data": {
            "text/plain": [
              "(np.float64(0.9293319861286584), np.float64(0.9540132356358504))"
            ]
          },
          "execution_count": 80,
          "metadata": {},
          "output_type": "execute_result"
        }
      ],
      "source": [
        "d['random_oversampling'].append(scores['test_roc_auc'].mean())\n",
        "scores['test_average_precision'].mean(), scores['test_roc_auc'].mean()"
      ]
    },
    {
      "cell_type": "markdown",
      "id": "34e15969",
      "metadata": {
        "id": "34e15969"
      },
      "source": [
        "### 3.4 Random Undersampling\n",
        "\n",
        "a. Perform random undersampling on the development dataset. (Please set random state to 42 while doing this).\n",
        "Examine the target column again. What is its class distribution now? Print the shape of the development set. </br>\n",
        "\n",
        "b. Repeat part 3.1 again. Use the Decision tree classifier (use max_depth=10 and random_state=42) model and print the AUC and Average Precision values of 5 Fold Cross Validation"
      ]
    },
    {
      "cell_type": "code",
      "execution_count": 81,
      "id": "1a3f4886",
      "metadata": {
        "colab": {
          "base_uri": "https://localhost:8080/"
        },
        "id": "1a3f4886",
        "outputId": "abb9d055-595e-411d-836a-f51680d26ef2"
      },
      "outputs": [
        {
          "name": "stdout",
          "output_type": "stream",
          "text": [
            "(7424, 63)\n",
            "y\n",
            "0    3712\n",
            "1    3712\n",
            "Name: count, dtype: int64\n"
          ]
        }
      ],
      "source": [
        "#Your Code Here\n",
        "rus=RandomUnderSampler(random_state=42)\n",
        "X_train_rus, y_train_rus=rus.fit_resample(X_train, y_train)\n",
        "\n",
        "X_train_rus=ss.fit_transform(X_train_rus)\n",
        "X_test_rus=ss.transform(X_test)\n",
        "\n",
        "\n",
        "print(X_train_rus.shape)\n",
        "print(y_train_rus.value_counts())"
      ]
    },
    {
      "cell_type": "code",
      "execution_count": 82,
      "id": "f3ba3f14",
      "metadata": {
        "colab": {
          "base_uri": "https://localhost:8080/"
        },
        "id": "f3ba3f14",
        "outputId": "044f7d98-2fb3-49e6-e643-c56da04d2aeb"
      },
      "outputs": [
        {
          "data": {
            "text/plain": [
              "{'fit_time': array([0.0663228 , 0.06480503, 0.0599544 , 0.06854343, 0.06111002]),\n",
              " 'score_time': array([0.00792336, 0.00617528, 0.00699854, 0.00640297, 0.00586104]),\n",
              " 'test_roc_auc': array([0.881242  , 0.88008293, 0.87248733, 0.88212717, 0.89104627]),\n",
              " 'test_average_precision': array([0.84864709, 0.84195658, 0.82043345, 0.83796623, 0.84182744])}"
            ]
          },
          "execution_count": 82,
          "metadata": {},
          "output_type": "execute_result"
        }
      ],
      "source": [
        "#Your Code Here\n",
        "scores=cross_validate(DecisionTreeClassifier(max_depth=10, random_state=42), X_train_rus, y_train_rus,\n",
        "                      cv=5, scoring=[\"roc_auc\", \"average_precision\"])\n",
        "scores"
      ]
    },
    {
      "cell_type": "code",
      "execution_count": 83,
      "id": "3nAYAupaFwXT",
      "metadata": {
        "colab": {
          "base_uri": "https://localhost:8080/"
        },
        "id": "3nAYAupaFwXT",
        "outputId": "fa52be7d-e361-4483-a0fc-45f52a600e16"
      },
      "outputs": [
        {
          "data": {
            "text/plain": [
              "(np.float64(0.8381661573544665), np.float64(0.8813971392780895))"
            ]
          },
          "execution_count": 83,
          "metadata": {},
          "output_type": "execute_result"
        }
      ],
      "source": [
        "d['random_undersampling'].append(scores['test_roc_auc'].mean())\n",
        "scores['test_average_precision'].mean(), scores['test_roc_auc'].mean()"
      ]
    },
    {
      "cell_type": "markdown",
      "id": "3d2c18b3",
      "metadata": {
        "id": "3d2c18b3"
      },
      "source": [
        "### 3.5 SMOTE\n",
        "\n",
        "a. Perform Synthetic Minority Oversampling Technique (SMOTE) on the development dataset. (Please set random state to 42 while doing this). Examine the target column again. What is its class distribution now? Print the shape of the development set. </br>\n",
        "\n",
        "b. Repeat part 3.1 again. Use the Decision tree classifier (use max_depth=10 and random_state=42) model and print the AUC and Average Precision values of 5 Fold Cross Validation"
      ]
    },
    {
      "cell_type": "code",
      "execution_count": 84,
      "id": "4c6fc1a3",
      "metadata": {
        "colab": {
          "base_uri": "https://localhost:8080/"
        },
        "id": "4c6fc1a3",
        "outputId": "c27a7793-a250-4078-f49b-4d4086da0cb4"
      },
      "outputs": [
        {
          "name": "stdout",
          "output_type": "stream",
          "text": [
            "(58476, 63)\n",
            "y\n",
            "0    29238\n",
            "1    29238\n",
            "Name: count, dtype: int64\n"
          ]
        }
      ],
      "source": [
        "#Your Code Here\n",
        "smote=SMOTE(random_state=42)\n",
        "X_train_sm, y_train_sm=smote.fit_resample(X_train, y_train)\n",
        "\n",
        "X_train_sm=ss.fit_transform(X_train_sm)\n",
        "X_test_sm=ss.transform(X_test)\n",
        "\n",
        "print(X_train_sm.shape)\n",
        "print(y_train_sm.value_counts())"
      ]
    },
    {
      "cell_type": "code",
      "execution_count": 85,
      "id": "4b7c3120",
      "metadata": {
        "colab": {
          "base_uri": "https://localhost:8080/"
        },
        "id": "4b7c3120",
        "outputId": "d390c502-8a37-4554-d4a1-82ca06521203"
      },
      "outputs": [
        {
          "data": {
            "text/plain": [
              "{'fit_time': array([1.21601439, 0.71755838, 0.69427299, 0.7019608 , 0.68970108]),\n",
              " 'score_time': array([0.02649164, 0.00865531, 0.00790811, 0.00835562, 0.0080626 ]),\n",
              " 'test_roc_auc': array([0.85231246, 0.98494757, 0.98035038, 0.98503114, 0.98395551]),\n",
              " 'test_average_precision': array([0.89347821, 0.97893001, 0.97034296, 0.97869048, 0.9768811 ])}"
            ]
          },
          "execution_count": 85,
          "metadata": {},
          "output_type": "execute_result"
        }
      ],
      "source": [
        "#Your Code Here\n",
        "\n",
        "scores=cross_validate(DecisionTreeClassifier(max_depth=10, random_state=42), X_train_sm, y_train_sm,\n",
        "                      cv=5, scoring=[\"roc_auc\", \"average_precision\"])\n",
        "scores"
      ]
    },
    {
      "cell_type": "code",
      "execution_count": 86,
      "id": "H0LU9q1br7yL",
      "metadata": {
        "colab": {
          "base_uri": "https://localhost:8080/"
        },
        "id": "H0LU9q1br7yL",
        "outputId": "12deec65-86d6-4c14-d7a4-ebc86b4567e0"
      },
      "outputs": [
        {
          "data": {
            "text/plain": [
              "(np.float64(0.9596645536039032), np.float64(0.9573194122064719))"
            ]
          },
          "execution_count": 86,
          "metadata": {},
          "output_type": "execute_result"
        }
      ],
      "source": [
        "d['smote'].append(scores['test_roc_auc'].mean())\n",
        "scores['test_average_precision'].mean(), scores['test_roc_auc'].mean()"
      ]
    },
    {
      "cell_type": "markdown",
      "id": "26064e8b",
      "metadata": {
        "id": "26064e8b"
      },
      "source": [
        "### 3.6 Visual Comparison\n",
        "\n",
        "Prepare a plot comparing the class distribtion of the target column for each of the imbalance techiques used above. Use the default class split as well."
      ]
    },
    {
      "cell_type": "code",
      "execution_count": 87,
      "id": "178856f5",
      "metadata": {
        "colab": {
          "base_uri": "https://localhost:8080/",
          "height": 206
        },
        "id": "178856f5",
        "outputId": "5827078e-dfae-482e-b114-01c4e93552eb"
      },
      "outputs": [
        {
          "data": {
            "application/vnd.google.colaboratory.intrinsic+json": {
              "summary": "{\n  \"name\": \"imb_df\",\n  \"rows\": 5,\n  \"fields\": [\n    {\n      \"column\": \"techniques\",\n      \"properties\": {\n        \"dtype\": \"string\",\n        \"num_unique_values\": 5,\n        \"samples\": [\n          \"Random Undersampling\",\n          \"SMOTE\",\n          \"Random Oversampling\"\n        ],\n        \"semantic_type\": \"\",\n        \"description\": \"\"\n      }\n    },\n    {\n      \"column\": \"no\",\n      \"properties\": {\n        \"dtype\": \"number\",\n        \"std\": 11415,\n        \"min\": 3712,\n        \"max\": 29238,\n        \"num_unique_values\": 2,\n        \"samples\": [\n          3712,\n          29238\n        ],\n        \"semantic_type\": \"\",\n        \"description\": \"\"\n      }\n    },\n    {\n      \"column\": \"yes\",\n      \"properties\": {\n        \"dtype\": \"number\",\n        \"std\": 13981,\n        \"min\": 3712,\n        \"max\": 29238,\n        \"num_unique_values\": 2,\n        \"samples\": [\n          29238,\n          3712\n        ],\n        \"semantic_type\": \"\",\n        \"description\": \"\"\n      }\n    }\n  ]\n}",
              "type": "dataframe",
              "variable_name": "imb_df"
            },
            "text/html": [
              "\n",
              "  <div id=\"df-f8ae72e7-6eb1-4838-80eb-27824dc40869\" class=\"colab-df-container\">\n",
              "    <div>\n",
              "<style scoped>\n",
              "    .dataframe tbody tr th:only-of-type {\n",
              "        vertical-align: middle;\n",
              "    }\n",
              "\n",
              "    .dataframe tbody tr th {\n",
              "        vertical-align: top;\n",
              "    }\n",
              "\n",
              "    .dataframe thead th {\n",
              "        text-align: right;\n",
              "    }\n",
              "</style>\n",
              "<table border=\"1\" class=\"dataframe\">\n",
              "  <thead>\n",
              "    <tr style=\"text-align: right;\">\n",
              "      <th></th>\n",
              "      <th>techniques</th>\n",
              "      <th>no</th>\n",
              "      <th>yes</th>\n",
              "    </tr>\n",
              "  </thead>\n",
              "  <tbody>\n",
              "    <tr>\n",
              "      <th>0</th>\n",
              "      <td>Default</td>\n",
              "      <td>29238</td>\n",
              "      <td>3712</td>\n",
              "    </tr>\n",
              "    <tr>\n",
              "      <th>1</th>\n",
              "      <td>Random Undersampling</td>\n",
              "      <td>3712</td>\n",
              "      <td>3712</td>\n",
              "    </tr>\n",
              "    <tr>\n",
              "      <th>2</th>\n",
              "      <td>Random Oversampling</td>\n",
              "      <td>29238</td>\n",
              "      <td>29238</td>\n",
              "    </tr>\n",
              "    <tr>\n",
              "      <th>3</th>\n",
              "      <td>Balanced Weight</td>\n",
              "      <td>29238</td>\n",
              "      <td>3712</td>\n",
              "    </tr>\n",
              "    <tr>\n",
              "      <th>4</th>\n",
              "      <td>SMOTE</td>\n",
              "      <td>29238</td>\n",
              "      <td>29238</td>\n",
              "    </tr>\n",
              "  </tbody>\n",
              "</table>\n",
              "</div>\n",
              "    <div class=\"colab-df-buttons\">\n",
              "\n",
              "  <div class=\"colab-df-container\">\n",
              "    <button class=\"colab-df-convert\" onclick=\"convertToInteractive('df-f8ae72e7-6eb1-4838-80eb-27824dc40869')\"\n",
              "            title=\"Convert this dataframe to an interactive table.\"\n",
              "            style=\"display:none;\">\n",
              "\n",
              "  <svg xmlns=\"http://www.w3.org/2000/svg\" height=\"24px\" viewBox=\"0 -960 960 960\">\n",
              "    <path d=\"M120-120v-720h720v720H120Zm60-500h600v-160H180v160Zm220 220h160v-160H400v160Zm0 220h160v-160H400v160ZM180-400h160v-160H180v160Zm440 0h160v-160H620v160ZM180-180h160v-160H180v160Zm440 0h160v-160H620v160Z\"/>\n",
              "  </svg>\n",
              "    </button>\n",
              "\n",
              "  <style>\n",
              "    .colab-df-container {\n",
              "      display:flex;\n",
              "      gap: 12px;\n",
              "    }\n",
              "\n",
              "    .colab-df-convert {\n",
              "      background-color: #E8F0FE;\n",
              "      border: none;\n",
              "      border-radius: 50%;\n",
              "      cursor: pointer;\n",
              "      display: none;\n",
              "      fill: #1967D2;\n",
              "      height: 32px;\n",
              "      padding: 0 0 0 0;\n",
              "      width: 32px;\n",
              "    }\n",
              "\n",
              "    .colab-df-convert:hover {\n",
              "      background-color: #E2EBFA;\n",
              "      box-shadow: 0px 1px 2px rgba(60, 64, 67, 0.3), 0px 1px 3px 1px rgba(60, 64, 67, 0.15);\n",
              "      fill: #174EA6;\n",
              "    }\n",
              "\n",
              "    .colab-df-buttons div {\n",
              "      margin-bottom: 4px;\n",
              "    }\n",
              "\n",
              "    [theme=dark] .colab-df-convert {\n",
              "      background-color: #3B4455;\n",
              "      fill: #D2E3FC;\n",
              "    }\n",
              "\n",
              "    [theme=dark] .colab-df-convert:hover {\n",
              "      background-color: #434B5C;\n",
              "      box-shadow: 0px 1px 3px 1px rgba(0, 0, 0, 0.15);\n",
              "      filter: drop-shadow(0px 1px 2px rgba(0, 0, 0, 0.3));\n",
              "      fill: #FFFFFF;\n",
              "    }\n",
              "  </style>\n",
              "\n",
              "    <script>\n",
              "      const buttonEl =\n",
              "        document.querySelector('#df-f8ae72e7-6eb1-4838-80eb-27824dc40869 button.colab-df-convert');\n",
              "      buttonEl.style.display =\n",
              "        google.colab.kernel.accessAllowed ? 'block' : 'none';\n",
              "\n",
              "      async function convertToInteractive(key) {\n",
              "        const element = document.querySelector('#df-f8ae72e7-6eb1-4838-80eb-27824dc40869');\n",
              "        const dataTable =\n",
              "          await google.colab.kernel.invokeFunction('convertToInteractive',\n",
              "                                                    [key], {});\n",
              "        if (!dataTable) return;\n",
              "\n",
              "        const docLinkHtml = 'Like what you see? Visit the ' +\n",
              "          '<a target=\"_blank\" href=https://colab.research.google.com/notebooks/data_table.ipynb>data table notebook</a>'\n",
              "          + ' to learn more about interactive tables.';\n",
              "        element.innerHTML = '';\n",
              "        dataTable['output_type'] = 'display_data';\n",
              "        await google.colab.output.renderOutput(dataTable, element);\n",
              "        const docLink = document.createElement('div');\n",
              "        docLink.innerHTML = docLinkHtml;\n",
              "        element.appendChild(docLink);\n",
              "      }\n",
              "    </script>\n",
              "  </div>\n",
              "\n",
              "\n",
              "<div id=\"df-e3a39cac-27ab-4ac0-8228-57b07885f0a5\">\n",
              "  <button class=\"colab-df-quickchart\" onclick=\"quickchart('df-e3a39cac-27ab-4ac0-8228-57b07885f0a5')\"\n",
              "            title=\"Suggest charts\"\n",
              "            style=\"display:none;\">\n",
              "\n",
              "<svg xmlns=\"http://www.w3.org/2000/svg\" height=\"24px\"viewBox=\"0 0 24 24\"\n",
              "     width=\"24px\">\n",
              "    <g>\n",
              "        <path d=\"M19 3H5c-1.1 0-2 .9-2 2v14c0 1.1.9 2 2 2h14c1.1 0 2-.9 2-2V5c0-1.1-.9-2-2-2zM9 17H7v-7h2v7zm4 0h-2V7h2v10zm4 0h-2v-4h2v4z\"/>\n",
              "    </g>\n",
              "</svg>\n",
              "  </button>\n",
              "\n",
              "<style>\n",
              "  .colab-df-quickchart {\n",
              "      --bg-color: #E8F0FE;\n",
              "      --fill-color: #1967D2;\n",
              "      --hover-bg-color: #E2EBFA;\n",
              "      --hover-fill-color: #174EA6;\n",
              "      --disabled-fill-color: #AAA;\n",
              "      --disabled-bg-color: #DDD;\n",
              "  }\n",
              "\n",
              "  [theme=dark] .colab-df-quickchart {\n",
              "      --bg-color: #3B4455;\n",
              "      --fill-color: #D2E3FC;\n",
              "      --hover-bg-color: #434B5C;\n",
              "      --hover-fill-color: #FFFFFF;\n",
              "      --disabled-bg-color: #3B4455;\n",
              "      --disabled-fill-color: #666;\n",
              "  }\n",
              "\n",
              "  .colab-df-quickchart {\n",
              "    background-color: var(--bg-color);\n",
              "    border: none;\n",
              "    border-radius: 50%;\n",
              "    cursor: pointer;\n",
              "    display: none;\n",
              "    fill: var(--fill-color);\n",
              "    height: 32px;\n",
              "    padding: 0;\n",
              "    width: 32px;\n",
              "  }\n",
              "\n",
              "  .colab-df-quickchart:hover {\n",
              "    background-color: var(--hover-bg-color);\n",
              "    box-shadow: 0 1px 2px rgba(60, 64, 67, 0.3), 0 1px 3px 1px rgba(60, 64, 67, 0.15);\n",
              "    fill: var(--button-hover-fill-color);\n",
              "  }\n",
              "\n",
              "  .colab-df-quickchart-complete:disabled,\n",
              "  .colab-df-quickchart-complete:disabled:hover {\n",
              "    background-color: var(--disabled-bg-color);\n",
              "    fill: var(--disabled-fill-color);\n",
              "    box-shadow: none;\n",
              "  }\n",
              "\n",
              "  .colab-df-spinner {\n",
              "    border: 2px solid var(--fill-color);\n",
              "    border-color: transparent;\n",
              "    border-bottom-color: var(--fill-color);\n",
              "    animation:\n",
              "      spin 1s steps(1) infinite;\n",
              "  }\n",
              "\n",
              "  @keyframes spin {\n",
              "    0% {\n",
              "      border-color: transparent;\n",
              "      border-bottom-color: var(--fill-color);\n",
              "      border-left-color: var(--fill-color);\n",
              "    }\n",
              "    20% {\n",
              "      border-color: transparent;\n",
              "      border-left-color: var(--fill-color);\n",
              "      border-top-color: var(--fill-color);\n",
              "    }\n",
              "    30% {\n",
              "      border-color: transparent;\n",
              "      border-left-color: var(--fill-color);\n",
              "      border-top-color: var(--fill-color);\n",
              "      border-right-color: var(--fill-color);\n",
              "    }\n",
              "    40% {\n",
              "      border-color: transparent;\n",
              "      border-right-color: var(--fill-color);\n",
              "      border-top-color: var(--fill-color);\n",
              "    }\n",
              "    60% {\n",
              "      border-color: transparent;\n",
              "      border-right-color: var(--fill-color);\n",
              "    }\n",
              "    80% {\n",
              "      border-color: transparent;\n",
              "      border-right-color: var(--fill-color);\n",
              "      border-bottom-color: var(--fill-color);\n",
              "    }\n",
              "    90% {\n",
              "      border-color: transparent;\n",
              "      border-bottom-color: var(--fill-color);\n",
              "    }\n",
              "  }\n",
              "</style>\n",
              "\n",
              "  <script>\n",
              "    async function quickchart(key) {\n",
              "      const quickchartButtonEl =\n",
              "        document.querySelector('#' + key + ' button');\n",
              "      quickchartButtonEl.disabled = true;  // To prevent multiple clicks.\n",
              "      quickchartButtonEl.classList.add('colab-df-spinner');\n",
              "      try {\n",
              "        const charts = await google.colab.kernel.invokeFunction(\n",
              "            'suggestCharts', [key], {});\n",
              "      } catch (error) {\n",
              "        console.error('Error during call to suggestCharts:', error);\n",
              "      }\n",
              "      quickchartButtonEl.classList.remove('colab-df-spinner');\n",
              "      quickchartButtonEl.classList.add('colab-df-quickchart-complete');\n",
              "    }\n",
              "    (() => {\n",
              "      let quickchartButtonEl =\n",
              "        document.querySelector('#df-e3a39cac-27ab-4ac0-8228-57b07885f0a5 button');\n",
              "      quickchartButtonEl.style.display =\n",
              "        google.colab.kernel.accessAllowed ? 'block' : 'none';\n",
              "    })();\n",
              "  </script>\n",
              "</div>\n",
              "\n",
              "  <div id=\"id_9816e8ed-a26f-496d-906c-7e53cfc725e9\">\n",
              "    <style>\n",
              "      .colab-df-generate {\n",
              "        background-color: #E8F0FE;\n",
              "        border: none;\n",
              "        border-radius: 50%;\n",
              "        cursor: pointer;\n",
              "        display: none;\n",
              "        fill: #1967D2;\n",
              "        height: 32px;\n",
              "        padding: 0 0 0 0;\n",
              "        width: 32px;\n",
              "      }\n",
              "\n",
              "      .colab-df-generate:hover {\n",
              "        background-color: #E2EBFA;\n",
              "        box-shadow: 0px 1px 2px rgba(60, 64, 67, 0.3), 0px 1px 3px 1px rgba(60, 64, 67, 0.15);\n",
              "        fill: #174EA6;\n",
              "      }\n",
              "\n",
              "      [theme=dark] .colab-df-generate {\n",
              "        background-color: #3B4455;\n",
              "        fill: #D2E3FC;\n",
              "      }\n",
              "\n",
              "      [theme=dark] .colab-df-generate:hover {\n",
              "        background-color: #434B5C;\n",
              "        box-shadow: 0px 1px 3px 1px rgba(0, 0, 0, 0.15);\n",
              "        filter: drop-shadow(0px 1px 2px rgba(0, 0, 0, 0.3));\n",
              "        fill: #FFFFFF;\n",
              "      }\n",
              "    </style>\n",
              "    <button class=\"colab-df-generate\" onclick=\"generateWithVariable('imb_df')\"\n",
              "            title=\"Generate code using this dataframe.\"\n",
              "            style=\"display:none;\">\n",
              "\n",
              "  <svg xmlns=\"http://www.w3.org/2000/svg\" height=\"24px\"viewBox=\"0 0 24 24\"\n",
              "       width=\"24px\">\n",
              "    <path d=\"M7,19H8.4L18.45,9,17,7.55,7,17.6ZM5,21V16.75L18.45,3.32a2,2,0,0,1,2.83,0l1.4,1.43a1.91,1.91,0,0,1,.58,1.4,1.91,1.91,0,0,1-.58,1.4L9.25,21ZM18.45,9,17,7.55Zm-12,3A5.31,5.31,0,0,0,4.9,8.1,5.31,5.31,0,0,0,1,6.5,5.31,5.31,0,0,0,4.9,4.9,5.31,5.31,0,0,0,6.5,1,5.31,5.31,0,0,0,8.1,4.9,5.31,5.31,0,0,0,12,6.5,5.46,5.46,0,0,0,6.5,12Z\"/>\n",
              "  </svg>\n",
              "    </button>\n",
              "    <script>\n",
              "      (() => {\n",
              "      const buttonEl =\n",
              "        document.querySelector('#id_9816e8ed-a26f-496d-906c-7e53cfc725e9 button.colab-df-generate');\n",
              "      buttonEl.style.display =\n",
              "        google.colab.kernel.accessAllowed ? 'block' : 'none';\n",
              "\n",
              "      buttonEl.onclick = () => {\n",
              "        google.colab.notebook.generateWithVariable('imb_df');\n",
              "      }\n",
              "      })();\n",
              "    </script>\n",
              "  </div>\n",
              "\n",
              "    </div>\n",
              "  </div>\n"
            ],
            "text/plain": [
              "             techniques     no    yes\n",
              "0               Default  29238   3712\n",
              "1  Random Undersampling   3712   3712\n",
              "2   Random Oversampling  29238  29238\n",
              "3       Balanced Weight  29238   3712\n",
              "4                 SMOTE  29238  29238"
            ]
          },
          "execution_count": 87,
          "metadata": {},
          "output_type": "execute_result"
        }
      ],
      "source": [
        "#Your Code Here\n",
        "imb={\n",
        "    'techniques':['Default', 'Random Undersampling', 'Random Oversampling', 'Balanced Weight', 'SMOTE'],\n",
        "    'no':[29238, 3712, 29238, 29238, 29238],\n",
        "    'yes':[3712, 3712, 29238, 3712, 29238]\n",
        "}\n",
        "\n",
        "imb_df = pd.DataFrame(imb)\n",
        "imb_df"
      ]
    },
    {
      "cell_type": "code",
      "execution_count": 88,
      "id": "OfGTrXfnuv8t",
      "metadata": {
        "colab": {
          "base_uri": "https://localhost:8080/",
          "height": 606
        },
        "id": "OfGTrXfnuv8t",
        "outputId": "81db5184-dbc8-48a6-fd40-3aee7d4827a3"
      },
      "outputs": [
        {
          "data": {
            "image/png": "[encoded data removed]",
            "text/plain": [
              "<Figure size 640x480 with 1 Axes>"
            ]
          },
          "metadata": {},
          "output_type": "display_data"
        }
      ],
      "source": [
        "\n",
        "imb_df.plot(x='techniques', kind='bar', title='Distribution of y over each imbalance techique', color=['purple', 'red'])\n",
        "plt.xlabel('Imbalance techniques')\n",
        "plt.ylabel('Count (frequency)')\n",
        "plt.xticks(rotation=45)\n",
        "plt.show()"
      ]
    },
    {
      "cell_type": "markdown",
      "id": "8b82cb39",
      "metadata": {
        "id": "8b82cb39"
      },
      "source": [
        "### **4.1: Model Prediction & Evaluation - AUC Scores**\n",
        "Make predictions on the test set using the five models that you built and report their AUC values<br>\n",
        "(Five models include models from - Default Baseline, Random Undersampling, Random Oversampling, SMOTE & Balanced Weight). Did the models with high AUC scores on the development set exhibit similar performance on the test set? Explain."
      ]
    },
    {
      "cell_type": "code",
      "execution_count": 89,
      "id": "0d1e5369",
      "metadata": {
        "id": "0d1e5369"
      },
      "outputs": [],
      "source": [
        "#Your Code Here\n",
        "dt=DecisionTreeClassifier(max_depth=10, random_state=42)\n",
        "dt_balanced=DecisionTreeClassifier(max_depth=10, random_state=42, class_weight='balanced')"
      ]
    },
    {
      "cell_type": "code",
      "execution_count": 90,
      "id": "7WEFTm01sbF2",
      "metadata": {
        "colab": {
          "base_uri": "https://localhost:8080/"
        },
        "id": "7WEFTm01sbF2",
        "outputId": "11ca991f-0208-4c0c-d6e0-1a41d92d5931"
      },
      "outputs": [
        {
          "data": {
            "text/plain": [
              "np.float64(0.743393998537667)"
            ]
          },
          "execution_count": 90,
          "metadata": {},
          "output_type": "execute_result"
        }
      ],
      "source": [
        "dt.fit(X_train_std, y_train)\n",
        "y_pred_base=dt.predict(X_test_std)\n",
        "y_pred_base_proba = dt.predict_proba(X_test_std)[:, 1]\n",
        "d['default'].append(roc_auc_score(y_test, y_pred_base))\n",
        "roc_auc_score(y_test, y_pred_base)"
      ]
    },
    {
      "cell_type": "code",
      "execution_count": 91,
      "id": "Ns02X7x_tOfn",
      "metadata": {
        "colab": {
          "base_uri": "https://localhost:8080/"
        },
        "id": "Ns02X7x_tOfn",
        "outputId": "b20c73eb-e627-47d0-d0f5-0fc448265e69"
      },
      "outputs": [
        {
          "data": {
            "text/plain": [
              "np.float64(0.8710517005519128)"
            ]
          },
          "execution_count": 91,
          "metadata": {},
          "output_type": "execute_result"
        }
      ],
      "source": [
        "dt_balanced.fit(X_train_std, y_train)\n",
        "y_pred_balanced=dt_balanced.predict(X_test_std)\n",
        "y_pred_balanced_proba = dt_balanced.predict_proba(X_test_std)[:, 1]\n",
        "d['balanced'].append(roc_auc_score(y_test, y_pred_balanced))\n",
        "roc_auc_score(y_test, y_pred_balanced)"
      ]
    },
    {
      "cell_type": "code",
      "execution_count": 92,
      "id": "_IsSa9QqtdvY",
      "metadata": {
        "colab": {
          "base_uri": "https://localhost:8080/"
        },
        "id": "_IsSa9QqtdvY",
        "outputId": "3714357a-271d-4996-bc3f-d76a1c7492b6"
      },
      "outputs": [
        {
          "data": {
            "text/plain": [
              "np.float64(0.8707433133638379)"
            ]
          },
          "execution_count": 92,
          "metadata": {},
          "output_type": "execute_result"
        }
      ],
      "source": [
        "dt.fit(X_train_ros, y_train_ros)\n",
        "y_pred_ros=dt.predict(X_test_ros)\n",
        "y_pred_ros_proba = dt.predict_proba(X_test_ros)[:, 1]\n",
        "d['random_oversampling'].append(roc_auc_score(y_test, y_pred_ros))\n",
        "roc_auc_score(y_test, y_pred_ros)"
      ]
    },
    {
      "cell_type": "code",
      "execution_count": 93,
      "id": "nkHsHaq4xyH-",
      "metadata": {
        "colab": {
          "base_uri": "https://localhost:8080/"
        },
        "id": "nkHsHaq4xyH-",
        "outputId": "931dee16-7083-4a14-ad5f-59c9af012e7d"
      },
      "outputs": [
        {
          "data": {
            "text/plain": [
              "np.float64(0.8735752570875985)"
            ]
          },
          "execution_count": 93,
          "metadata": {},
          "output_type": "execute_result"
        }
      ],
      "source": [
        "dt.fit(X_train_rus, y_train_rus)\n",
        "y_pred_rus=dt.predict(X_test_rus)\n",
        "y_pred_rus_proba = dt.predict_proba(X_test_rus)[:, 1]\n",
        "d['random_undersampling'].append(roc_auc_score(y_test, y_pred_rus))\n",
        "roc_auc_score(y_test, y_pred_rus)"
      ]
    },
    {
      "cell_type": "code",
      "execution_count": 94,
      "id": "ns2aN0_sx4_W",
      "metadata": {
        "colab": {
          "base_uri": "https://localhost:8080/"
        },
        "id": "ns2aN0_sx4_W",
        "outputId": "60dce72a-f31c-4a77-dd96-cbff598b11ce"
      },
      "outputs": [
        {
          "data": {
            "text/plain": [
              "np.float64(0.7989123897353648)"
            ]
          },
          "execution_count": 94,
          "metadata": {},
          "output_type": "execute_result"
        }
      ],
      "source": [
        "dt.fit(X_train_sm, y_train_sm)\n",
        "y_pred_sm=dt.predict(X_test_sm)\n",
        "y_pred_sm_proba = dt.predict_proba(X_test_sm)[:, 1]\n",
        "d['smote'].append(roc_auc_score(y_test, y_pred_sm))\n",
        "roc_auc_score(y_test, y_pred_sm)"
      ]
    },
    {
      "cell_type": "code",
      "execution_count": 95,
      "id": "FP83Hd-kCMaO",
      "metadata": {
        "colab": {
          "base_uri": "https://localhost:8080/"
        },
        "id": "FP83Hd-kCMaO",
        "outputId": "461e05ce-6600-47b7-ff16-b843759dfddb"
      },
      "outputs": [
        {
          "data": {
            "text/plain": [
              "{'default': [np.float64(0.8571783127134701), np.float64(0.743393998537667)],\n",
              " 'balanced': [np.float64(0.8863162440802936), np.float64(0.8710517005519128)],\n",
              " 'random_oversampling': [np.float64(0.9540132356358504),\n",
              "  np.float64(0.8707433133638379)],\n",
              " 'random_undersampling': [np.float64(0.8813971392780895),\n",
              "  np.float64(0.8735752570875985)],\n",
              " 'smote': [np.float64(0.9573194122064719), np.float64(0.7989123897353648)]}"
            ]
          },
          "execution_count": 95,
          "metadata": {},
          "output_type": "execute_result"
        }
      ],
      "source": [
        "d"
      ]
    },
    {
      "cell_type": "markdown",
      "id": "2G_-dYuXrFwK",
      "metadata": {
        "id": "2G_-dYuXrFwK"
      },
      "source": [
        "## Comment\n",
        "\n",
        "**No,** the models with high AUC scores in the development set (SMOTE) performed the worst on the test set (maybe better than baseline model), suggesting that the model becomes too complex on generating more data (as same can be observed from Random Oversampling) that it does not generalize well on the test data (overfitting)."
      ]
    },
    {
      "cell_type": "markdown",
      "id": "ab5c2319",
      "metadata": {
        "id": "ab5c2319"
      },
      "source": [
        "### **4.2: Model Prediction & Evaluation - Confusion Matrix**\n",
        "a. Plot Confusion Matrices for all the five models on the test set. Comment on your results and share in detail. Consider precision, recall and f1 scores. <br>\n",
        "b. For the dataset at hand, which evaluation metric matters most according to you? Would it make sense to prioritise either precision/recall over the other? Justify."
      ]
    },
    {
      "cell_type": "code",
      "execution_count": 96,
      "id": "6a7baff5",
      "metadata": {
        "colab": {
          "base_uri": "https://localhost:8080/",
          "height": 480
        },
        "id": "6a7baff5",
        "outputId": "facba592-1567-4a10-9357-0b4a369fda03"
      },
      "outputs": [
        {
          "data": {
            "image/png": "[encoded data removed]",
            "text/plain": [
              "<Figure size 640x480 with 2 Axes>"
            ]
          },
          "metadata": {},
          "output_type": "display_data"
        }
      ],
      "source": [
        "#Your Code Here\n",
        "cm = confusion_matrix(y_test, y_pred_base, labels=dt.classes_)\n",
        "disp = ConfusionMatrixDisplay(confusion_matrix=cm,\n",
        "                              display_labels=dt.classes_)\n",
        "disp.plot()\n",
        "plt.grid(visible=None)\n",
        "plt.title(\"Confusion matrix on Test data (Default)\")\n",
        "plt.show()"
      ]
    },
    {
      "cell_type": "code",
      "execution_count": 97,
      "id": "Bj7tg6CqSjrU",
      "metadata": {
        "colab": {
          "base_uri": "https://localhost:8080/"
        },
        "id": "Bj7tg6CqSjrU",
        "outputId": "34164479-fc20-4815-bfbb-b91c9759be56"
      },
      "outputs": [
        {
          "name": "stdout",
          "output_type": "stream",
          "text": [
            "              precision    recall  f1-score   support\n",
            "\n",
            "           0       0.94      0.96      0.95      7310\n",
            "           1       0.65      0.52      0.58       928\n",
            "\n",
            "    accuracy                           0.91      8238\n",
            "   macro avg       0.80      0.74      0.77      8238\n",
            "weighted avg       0.91      0.91      0.91      8238\n",
            "\n"
          ]
        }
      ],
      "source": [
        "print(classification_report(y_test, y_pred_base))"
      ]
    },
    {
      "cell_type": "code",
      "execution_count": 98,
      "id": "22e8276d",
      "metadata": {
        "colab": {
          "base_uri": "https://localhost:8080/",
          "height": 480
        },
        "id": "22e8276d",
        "outputId": "10f04921-122e-4b07-b1e7-517296c7ebe8"
      },
      "outputs": [
        {
          "data": {
            "image/png": "[encoded data removed]",
            "text/plain": [
              "<Figure size 640x480 with 2 Axes>"
            ]
          },
          "metadata": {},
          "output_type": "display_data"
        }
      ],
      "source": [
        "#Your Code Here\n",
        "cm = confusion_matrix(y_test, y_pred_balanced, labels=dt.classes_)\n",
        "disp = ConfusionMatrixDisplay(confusion_matrix=cm,\n",
        "                              display_labels=dt.classes_)\n",
        "disp.plot()\n",
        "plt.grid(visible=None)\n",
        "plt.title(\"Confusion matrix on Test data (Balanced)\")\n",
        "plt.show()"
      ]
    },
    {
      "cell_type": "code",
      "execution_count": 99,
      "id": "WYj6APC7XE6v",
      "metadata": {
        "colab": {
          "base_uri": "https://localhost:8080/"
        },
        "id": "WYj6APC7XE6v",
        "outputId": "72fb0ff6-b4e4-4542-8626-cbc1884a7e0f"
      },
      "outputs": [
        {
          "name": "stdout",
          "output_type": "stream",
          "text": [
            "              precision    recall  f1-score   support\n",
            "\n",
            "           0       0.98      0.85      0.91      7310\n",
            "           1       0.44      0.89      0.58       928\n",
            "\n",
            "    accuracy                           0.86      8238\n",
            "   macro avg       0.71      0.87      0.75      8238\n",
            "weighted avg       0.92      0.86      0.88      8238\n",
            "\n"
          ]
        }
      ],
      "source": [
        "print(classification_report(y_test, y_pred_balanced))"
      ]
    },
    {
      "cell_type": "code",
      "execution_count": 100,
      "id": "ffb26c58",
      "metadata": {
        "colab": {
          "base_uri": "https://localhost:8080/",
          "height": 480
        },
        "id": "ffb26c58",
        "outputId": "b67feb12-6f49-43e8-a811-776aed83759c"
      },
      "outputs": [
        {
          "data": {
            "image/png": "[encoded data removed]",
            "text/plain": [
              "<Figure size 640x480 with 2 Axes>"
            ]
          },
          "metadata": {},
          "output_type": "display_data"
        }
      ],
      "source": [
        "#Your Code Here\n",
        "cm = confusion_matrix(y_test, y_pred_ros, labels=dt.classes_)\n",
        "disp = ConfusionMatrixDisplay(confusion_matrix=cm,\n",
        "                              display_labels=dt.classes_)\n",
        "disp.plot()\n",
        "plt.grid(visible=None)\n",
        "plt.title(\"Confusion matrix on Test data (Random Oversampling)\")\n",
        "plt.show()"
      ]
    },
    {
      "cell_type": "code",
      "execution_count": 101,
      "id": "FSWdKQ6SXHPc",
      "metadata": {
        "colab": {
          "base_uri": "https://localhost:8080/"
        },
        "id": "FSWdKQ6SXHPc",
        "outputId": "f99f4e1b-05e4-4589-c672-a7fec84a8dac"
      },
      "outputs": [
        {
          "name": "stdout",
          "output_type": "stream",
          "text": [
            "              precision    recall  f1-score   support\n",
            "\n",
            "           0       0.98      0.86      0.92      7310\n",
            "           1       0.44      0.88      0.59       928\n",
            "\n",
            "    accuracy                           0.86      8238\n",
            "   macro avg       0.71      0.87      0.75      8238\n",
            "weighted avg       0.92      0.86      0.88      8238\n",
            "\n"
          ]
        }
      ],
      "source": [
        "print(classification_report(y_test, y_pred_ros))"
      ]
    },
    {
      "cell_type": "code",
      "execution_count": 102,
      "id": "4be25e16",
      "metadata": {
        "colab": {
          "base_uri": "https://localhost:8080/",
          "height": 480
        },
        "id": "4be25e16",
        "outputId": "2494117e-540d-4981-ff8d-6308e9080a26"
      },
      "outputs": [
        {
          "data": {
            "image/png": "[encoded data removed]",
            "text/plain": [
              "<Figure size 640x480 with 2 Axes>"
            ]
          },
          "metadata": {},
          "output_type": "display_data"
        }
      ],
      "source": [
        "#Your Code Here\n",
        "cm = confusion_matrix(y_test, y_pred_rus, labels=dt.classes_)\n",
        "disp = ConfusionMatrixDisplay(confusion_matrix=cm,\n",
        "                              display_labels=dt.classes_)\n",
        "disp.plot()\n",
        "plt.grid(visible=None)\n",
        "plt.title(\"Confusion matrix on Test data (Random Undersampling)\")\n",
        "plt.show()"
      ]
    },
    {
      "cell_type": "code",
      "execution_count": 103,
      "id": "wpG18V7CXJFu",
      "metadata": {
        "colab": {
          "base_uri": "https://localhost:8080/"
        },
        "id": "wpG18V7CXJFu",
        "outputId": "e8df32e9-a62c-4078-e8aa-504ab1c0f352"
      },
      "outputs": [
        {
          "name": "stdout",
          "output_type": "stream",
          "text": [
            "              precision    recall  f1-score   support\n",
            "\n",
            "           0       0.98      0.85      0.91      7310\n",
            "           1       0.43      0.90      0.58       928\n",
            "\n",
            "    accuracy                           0.85      8238\n",
            "   macro avg       0.71      0.87      0.75      8238\n",
            "weighted avg       0.92      0.85      0.88      8238\n",
            "\n"
          ]
        }
      ],
      "source": [
        "print(classification_report(y_test, y_pred_rus))"
      ]
    },
    {
      "cell_type": "code",
      "execution_count": 104,
      "id": "6085ace4",
      "metadata": {
        "colab": {
          "base_uri": "https://localhost:8080/",
          "height": 480
        },
        "id": "6085ace4",
        "outputId": "0bfb13db-fd3e-4da3-f620-0495203340f9"
      },
      "outputs": [
        {
          "data": {
            "image/png": "[encoded data removed]",
            "text/plain": [
              "<Figure size 640x480 with 2 Axes>"
            ]
          },
          "metadata": {},
          "output_type": "display_data"
        }
      ],
      "source": [
        "#Your Code Here\n",
        "cm = confusion_matrix(y_test, y_pred_sm, labels=dt.classes_)\n",
        "disp = ConfusionMatrixDisplay(confusion_matrix=cm,\n",
        "                              display_labels=dt.classes_)\n",
        "disp.plot()\n",
        "plt.grid(visible=None)\n",
        "plt.title(\"Confusion matrix on Test data (SMOTE)\")\n",
        "plt.show()"
      ]
    },
    {
      "cell_type": "code",
      "execution_count": 105,
      "id": "GqAg8ajzXK2f",
      "metadata": {
        "colab": {
          "base_uri": "https://localhost:8080/"
        },
        "id": "GqAg8ajzXK2f",
        "outputId": "a2d08f27-3d6e-444d-cf98-f8978d8ca830"
      },
      "outputs": [
        {
          "name": "stdout",
          "output_type": "stream",
          "text": [
            "              precision    recall  f1-score   support\n",
            "\n",
            "           0       0.96      0.92      0.94      7310\n",
            "           1       0.53      0.67      0.59       928\n",
            "\n",
            "    accuracy                           0.90      8238\n",
            "   macro avg       0.74      0.80      0.77      8238\n",
            "weighted avg       0.91      0.90      0.90      8238\n",
            "\n"
          ]
        }
      ],
      "source": [
        "print(classification_report(y_test, y_pred_sm))"
      ]
    },
    {
      "cell_type": "markdown",
      "id": "xJkjDliXsivC",
      "metadata": {
        "id": "xJkjDliXsivC"
      },
      "source": [
        "## Comment\n",
        "\n",
        "a) It seems like for baseline, majority of the classes predicted as 1 are indeed 1 and majority of the actual class 1 labels are also predicted correctly. For SMOTE, True positive is almost twice as that of False negatives (misclassified as 0), and majority of the classes predicted as 1 were actually 1. For the rest of the techniques, True positive is almost 8 times as that of False negatives (misclassified as 0), and majority of the classes predicted as 1 were actually 0 (False positives).\n",
        "\n",
        "b) Since the dataset is imbalanced, I would say it is Average Precision as AP indicates whether the model can correctly identify all positive\n",
        "examples without accidentally marking too many negative examples as\n",
        "positive or maybe F1-score.\n",
        "\n",
        "Choosing Precision or Recall matters on the cost.\n",
        "\n",
        "\n",
        "Recall matters more when we want to minimize false negatives (i.e., customers who would subscribe to the term deposit but are classified as not subscribing). Missing these potential subscribers could lead to lost revenue or missed marketing opportunities.\n",
        "\n",
        "Precision might be important if the cost of falsely predicting a subscription (false positives) is high (e.g., contacting customers unnecessarily).\n",
        "\n",
        "F1-Score is useful when we want to balance precision and recall, especially if both false positives and false negatives have significant costs. Since this is a typical example of a class imbalance problem, F1-Score may give you a good balance between precision and recall.\n",
        "\n",
        "When it comes to recall or precision, I'll assume the cost of 'customers who would subscribe to the term deposit but are classified as not subscribing' is more, so I'll choose 'Recall'.\n",
        "\n",
        "\n"
      ]
    },
    {
      "cell_type": "markdown",
      "id": "8b3a30ec",
      "metadata": {
        "id": "8b3a30ec"
      },
      "source": [
        "### **4.3: Model Prediction & Evaluation - ROC Curves**\n",
        "\n",
        "Plot ROC for all the five models on the test set in a single plot. Recomment which technique is most appropriate and why."
      ]
    },
    {
      "cell_type": "code",
      "execution_count": 106,
      "id": "37ca1dda",
      "metadata": {
        "colab": {
          "base_uri": "https://localhost:8080/",
          "height": 638
        },
        "id": "37ca1dda",
        "outputId": "847360aa-7f9e-46ee-f61b-89cef26ab7a0"
      },
      "outputs": [
        {
          "data": {
            "image/png": "[encoded data removed]",
            "text/plain": [
              "<Figure size 1500x800 with 1 Axes>"
            ]
          },
          "metadata": {},
          "output_type": "display_data"
        }
      ],
      "source": [
        "#Your Code Here\n",
        "fpr1, tpr1, thresholds1 = roc_curve(y_test, y_pred_base_proba)\n",
        "roc_auc1 = auc(fpr1, tpr1)\n",
        "\n",
        "fpr2, tpr2, thresholds2 = roc_curve(y_test, y_pred_balanced_proba)\n",
        "roc_auc2 = auc(fpr2, tpr2)\n",
        "\n",
        "fpr3, tpr3, thresholds3 = roc_curve(y_test, y_pred_ros_proba)\n",
        "roc_auc3 = auc(fpr3, tpr3)\n",
        "\n",
        "fpr4, tpr4, thresholds4 = roc_curve(y_test, y_pred_rus_proba)\n",
        "roc_auc4 = auc(fpr4, tpr4)\n",
        "\n",
        "fpr5, tpr5, thresholds5 = roc_curve(y_test, y_pred_sm_proba)\n",
        "roc_auc5 = auc(fpr5, tpr5)\n",
        "\n",
        "plt.figure(figsize=(15,8))\n",
        "plt.plot(fpr1, tpr1, label='Decision Tree - baseline (AUC = %0.4f)' % roc_auc1)\n",
        "plt.plot(fpr2, tpr2, label='Decision Tree - Balanced weights (AUC = %0.4f)' % roc_auc2)\n",
        "plt.plot(fpr3, tpr3, label='Decision Tree - Random Oversampling (AUC = %0.4f)' % roc_auc3)\n",
        "plt.plot(fpr4, tpr4, label='Decision Tree - Random Undersampling (AUC = %0.4f)' % roc_auc4)\n",
        "plt.plot(fpr5, tpr5, label='Decision Tree - SMOTE (AUC = %0.4f)' % roc_auc5)\n",
        "\n",
        "plt.xlabel('False Positive Rate')\n",
        "plt.ylabel('True Positive Rate')\n",
        "plt.title('ROC Curve for Decision Trees')\n",
        "plt.legend()\n",
        "plt.show()"
      ]
    },
    {
      "cell_type": "markdown",
      "id": "A-xI2lmZOYmX",
      "metadata": {
        "id": "A-xI2lmZOYmX"
      },
      "source": [
        "## Comment\n",
        "\n",
        "From the AUC scores from the previous sections on both development and test set and from this plot, I would recommend that we employ **Balanced weights** technique as it has the highest AUC score and also doesn't cause overfitting problem. The techniques that I would strongly discourage are Random Oversampling and SMOTE as they perform good on develepment set but poor on test set. Only in these 2 methods do we generate more data, so them performing good on development set but not on test means that with increase in data the model becomes too complex and doesn't generalise well on unseen data (leading to Overfitting). Therefore, we should choose a technique that doesn't generate more data - Balanced weights or Random Undersampling - out of these Balanced weights has higher scores."
      ]
    }
  ],
  "metadata": {
    "colab": {
      "provenance": []
    },
    "kernelspec": {
      "display_name": "Python 3 (ipykernel)",
      "language": "python",
      "name": "python3"
    },
    "language_info": {
      "codemirror_mode": {
        "name": "ipython",
        "version": 3
      },
      "file_extension": ".py",
      "mimetype": "text/x-python",
      "name": "python",
      "nbconvert_exporter": "python",
      "pygments_lexer": "ipython3",
      "version": "3.8.20"
    }
  },
  "nbformat": 4,
  "nbformat_minor": 5
}
