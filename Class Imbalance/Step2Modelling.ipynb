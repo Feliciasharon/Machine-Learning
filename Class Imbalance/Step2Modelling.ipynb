{
  "cells": [
    {
      "cell_type": "code",
      "execution_count": null,
      "metadata": {
        "id": "gq5E5lZjXW-G"
      },
      "outputs": [],
      "source": [
        "import time\n",
        "import warnings\n",
        "import sys\n",
        "import copy # For saving best model state\n",
        "from typing import List, Tuple, Dict, Any, Optional\n",
        "\n",
        "import numpy as np\n",
        "import pandas as pd\n",
        "\n",
        "from sklearn.preprocessing import LabelEncoder\n",
        "from sklearn.decomposition import PCA\n",
        "\n",
        "from sklearn.ensemble import RandomForestClassifier\n",
        "from xgboost import XGBClassifier\n",
        "from lightgbm import LGBMClassifier\n",
        "from interpret.glassbox import ExplainableBoostingClassifier\n",
        "from sklearn.svm import SVC\n",
        "\n",
        "from sklearn.model_selection import RandomizedSearchCV\n",
        "from scipy.stats import randint, uniform, loguniform\n",
        "\n",
        "import torch\n",
        "import torch.nn as nn\n",
        "import torch.optim as optim\n",
        "from torch.utils.data import Dataset, DataLoader\n",
        "\n",
        "from sklearn.metrics import (\n",
        "    accuracy_score,\n",
        "    classification_report,\n",
        "    confusion_matrix,\n",
        "    f1_score,\n",
        "    precision_score,\n",
        "    recall_score\n",
        ")\n",
        "\n",
        "import matplotlib.pyplot as plt\n",
        "import seaborn as sns\n"
      ]
    },
    {
      "cell_type": "markdown",
      "metadata": {
        "id": "EYD4Hgd6XW-J"
      },
      "source": [
        "# Fixed Hyperparameters"
      ]
    },
    {
      "cell_type": "code",
      "execution_count": null,
      "metadata": {
        "id": "vKHl_y75XW-K"
      },
      "outputs": [],
      "source": [
        "RANDOM_STATE: int = 42\n",
        "PCA_EXPLAINED_VARIANCE_THRESHOLD: float = 0.95\n",
        "NUM_CLASSES: int = 5\n",
        "N_JOBS: int = -1\n",
        "N_ITER_SEARCH: int = 50 # Number of parameter settings sampled per model (adjust based on time/resources)\n",
        "CV_FOLDS: int = 3 # Number of cross-validation folds for search\n",
        "SCORING_METRIC: str = 'f1_weighted' # Metric to optimize during search"
      ]
    },
    {
      "cell_type": "code",
      "execution_count": null,
      "metadata": {
        "id": "-GS-dFUFXW-L",
        "outputId": "76ed2a95-fda6-4b1d-9ff0-d4f65854957b"
      },
      "outputs": [
        {
          "data": {
            "text/plain": [
              "device(type='mps')"
            ]
          },
          "execution_count": 4,
          "metadata": {},
          "output_type": "execute_result"
        }
      ],
      "source": [
        "DEVICE = torch.device(\"mps\")\n",
        "EPOCHS: int = 50\n",
        "BATCH_SIZE: int = 128\n",
        "LEARNING_RATE: float = 1e-3\n",
        "EARLY_STOPPING_PATIENCE: int = 5\n",
        "DEVICE"
      ]
    },
    {
      "cell_type": "code",
      "execution_count": null,
      "metadata": {
        "id": "u4BVV3r8XW-L"
      },
      "outputs": [],
      "source": [
        "np.random.seed(RANDOM_STATE)\n",
        "torch.manual_seed(RANDOM_STATE)\n",
        "if torch.cuda.is_available():\n",
        "    torch.cuda.manual_seed_all(RANDOM_STATE)"
      ]
    },
    {
      "cell_type": "markdown",
      "metadata": {
        "id": "Yiuao6RNXW-M"
      },
      "source": [
        "# Load Dataset"
      ]
    },
    {
      "cell_type": "code",
      "execution_count": null,
      "metadata": {
        "id": "qkJJsEe1XW-M"
      },
      "outputs": [],
      "source": [
        "X_train = pd.read_csv(\"./Oversampled_X_train.csv\")\n",
        "y_train = pd.read_csv(\"./Oversampled_y_train.csv\")\n",
        "X_val = pd.read_csv(\"./X_val.csv\")\n",
        "y_val = pd.read_csv(\"./y_val.csv\")\n",
        "X_test = pd.read_csv(\"./X_test.csv\")\n",
        "y_test = pd.read_csv(\"./y_test.csv\")"
      ]
    },
    {
      "cell_type": "code",
      "execution_count": null,
      "metadata": {
        "id": "4bei-EnUXW-M",
        "outputId": "e1a208b2-27b7-40ef-e5b6-1a19fd774511"
      },
      "outputs": [
        {
          "name": "stdout",
          "output_type": "stream",
          "text": [
            "(269365, 100)\n",
            "(269365, 1)\n",
            "(25195, 100)\n",
            "(25195, 1)\n",
            "(22543, 100)\n",
            "(22543, 1)\n"
          ]
        }
      ],
      "source": [
        "print(X_train.shape)\n",
        "print(y_train.shape)\n",
        "print(X_val.shape)\n",
        "print(y_val.shape)\n",
        "print(X_test.shape)\n",
        "print(y_test.shape)"
      ]
    },
    {
      "cell_type": "markdown",
      "metadata": {
        "id": "Py0BaDY6XW-N"
      },
      "source": [
        "# Encode Target Variables"
      ]
    },
    {
      "cell_type": "code",
      "execution_count": null,
      "metadata": {
        "id": "uJupJXvTXW-N",
        "outputId": "41b8d812-8cc8-4a3e-d0e9-77271986a779"
      },
      "outputs": [
        {
          "name": "stderr",
          "output_type": "stream",
          "text": [
            "/opt/anaconda3/envs/el_ds/lib/python3.12/site-packages/sklearn/preprocessing/_label.py:110: DataConversionWarning: A column-vector y was passed when a 1d array was expected. Please change the shape of y to (n_samples, ), for example using ravel().\n",
            "  y = column_or_1d(y, warn=True)\n",
            "/opt/anaconda3/envs/el_ds/lib/python3.12/site-packages/sklearn/preprocessing/_label.py:129: DataConversionWarning: A column-vector y was passed when a 1d array was expected. Please change the shape of y to (n_samples, ), for example using ravel().\n",
            "  y = column_or_1d(y, dtype=self.classes_.dtype, warn=True)\n",
            "/opt/anaconda3/envs/el_ds/lib/python3.12/site-packages/sklearn/preprocessing/_label.py:129: DataConversionWarning: A column-vector y was passed when a 1d array was expected. Please change the shape of y to (n_samples, ), for example using ravel().\n",
            "  y = column_or_1d(y, dtype=self.classes_.dtype, warn=True)\n"
          ]
        }
      ],
      "source": [
        "label_encoder = LabelEncoder()\n",
        "y_train_enc = label_encoder.fit_transform(y_train)\n",
        "y_val_enc = label_encoder.transform(y_val)\n",
        "y_test_enc = label_encoder.transform(y_test)\n",
        "num_classes = len(label_encoder.classes_)\n",
        "target_names = label_encoder.classes_.tolist()"
      ]
    },
    {
      "cell_type": "markdown",
      "metadata": {
        "id": "AI5DSBC7XW-N"
      },
      "source": [
        "# Dimension Reduction using PCA (we save 95% of variance)"
      ]
    },
    {
      "cell_type": "code",
      "execution_count": null,
      "metadata": {
        "id": "FJ-PW5waXW-N"
      },
      "outputs": [],
      "source": [
        "pca = PCA(n_components=PCA_EXPLAINED_VARIANCE_THRESHOLD, random_state=RANDOM_STATE)\n",
        "\n",
        "X_train_np = X_train.values\n",
        "X_val_np = X_val.values\n",
        "X_test_np = X_test.values\n",
        "\n",
        "X_train_pca = pca.fit_transform(X_train_np)\n",
        "X_val_pca = pca.transform(X_val_np)\n",
        "X_test_pca = pca.transform(X_test_np)"
      ]
    },
    {
      "cell_type": "code",
      "execution_count": null,
      "metadata": {
        "id": "copSI-BTXW-N",
        "outputId": "2d3d2982-5632-4fde-d969-cf6665576ab7"
      },
      "outputs": [
        {
          "name": "stdout",
          "output_type": "stream",
          "text": [
            "After Dimension reduction\n",
            "Train data shape: (269365, 15)\n",
            "Validation data shape: (25195, 15)\n",
            "Test data shape: (22543, 15)\n"
          ]
        }
      ],
      "source": [
        "print(\"After Dimension reduction\")\n",
        "print(\"Train data shape:\",X_train_pca.shape)\n",
        "print(\"Validation data shape:\",X_val_pca.shape)\n",
        "print(\"Test data shape:\",X_test_pca.shape)"
      ]
    },
    {
      "cell_type": "markdown",
      "metadata": {
        "id": "rt-Wa55EXW-O"
      },
      "source": [
        "## Comment\n",
        "Before Dimension Reduction we had 100 features as input, now we have 15 features"
      ]
    },
    {
      "cell_type": "markdown",
      "metadata": {
        "id": "QmcuDWdvXW-O"
      },
      "source": [
        "# Common Functions"
      ]
    },
    {
      "cell_type": "code",
      "execution_count": null,
      "metadata": {
        "id": "pGEFsuicXW-O"
      },
      "outputs": [],
      "source": [
        "def evaluate_classification_metrics(y_true: np.ndarray, y_pred: np.ndarray, target_names: List[str]) -> Dict[str, Any]:\n",
        "    \"\"\"Calculates and formats standard classification metrics.\"\"\"\n",
        "    accuracy = accuracy_score(y_true, y_pred)\n",
        "    # Using weighted average for precision, recall, f1 due to potential imbalance even after resampling\n",
        "    precision_w = precision_score(y_true, y_pred, average='weighted', zero_division=0)\n",
        "    recall_w = recall_score(y_true, y_pred, average='weighted', zero_division=0)\n",
        "    f1_w = f1_score(y_true, y_pred, average='weighted', zero_division=0)\n",
        "\n",
        "    report = classification_report(y_true, y_pred, target_names=target_names, zero_division=0, output_dict=True)\n",
        "\n",
        "    metrics = {\n",
        "        'accuracy': accuracy,\n",
        "        'precision_weighted': precision_w,\n",
        "        'recall_weighted': recall_w,\n",
        "        'f1_weighted': f1_w,\n",
        "        'classification_report': report # Store full report dict\n",
        "    }\n",
        "    return metrics"
      ]
    },
    {
      "cell_type": "code",
      "execution_count": null,
      "metadata": {
        "id": "mflMRUsfXW-O"
      },
      "outputs": [],
      "source": [
        "def train_evaluate_model_with_search(\n",
        "    model_name: str, base_estimator: Any, param_distributions: Dict,\n",
        "    X_train: np.ndarray, y_train: np.ndarray,\n",
        "    X_val: np.ndarray, y_val: np.ndarray,\n",
        "    X_test: np.ndarray, y_test: np.ndarray,\n",
        "    target_names: List[str],\n",
        "    n_iter: int = N_ITER_SEARCH,\n",
        "    cv: int = CV_FOLDS,\n",
        "    scoring_metric: str = SCORING_METRIC\n",
        ") -> Dict[str, Any]:\n",
        "\n",
        "\n",
        "    results = {'model_name': model_name}\n",
        "\n",
        "    if hasattr(base_estimator, 'random_state'):\n",
        "        try: base_estimator.set_params(random_state=RANDOM_STATE)\n",
        "        except:\n",
        "            pass\n",
        "    if 'n_jobs' in base_estimator.get_params():\n",
        "         try: base_estimator.set_params(n_jobs=N_JOBS)\n",
        "         except: pass\n",
        "\n",
        "    random_search = RandomizedSearchCV(\n",
        "        estimator=base_estimator,\n",
        "        param_distributions=param_distributions,\n",
        "        n_iter=n_iter,\n",
        "        cv=cv,\n",
        "        scoring=scoring_metric,\n",
        "        n_jobs=N_JOBS,\n",
        "        random_state=RANDOM_STATE,\n",
        "        verbose=1,\n",
        "        error_score='raise'\n",
        "    )\n",
        "\n",
        "    start_time = time.time()\n",
        "    try:\n",
        "\n",
        "        random_search.fit(X_train, y_train)\n",
        "\n",
        "    except Exception as e:\n",
        "\n",
        "        results['search_time_s'] = -1\n",
        "        results['error'] = f\"Search Failed: {e}\"\n",
        "        return results\n",
        "\n",
        "    search_time = time.time() - start_time\n",
        "    results['search_time_s'] = round(search_time, 3)\n",
        "\n",
        "\n",
        "    best_model = random_search.best_estimator_\n",
        "    results['best_params'] = random_search.best_params_\n",
        "    results['best_cv_score'] = random_search.best_score_\n",
        "\n",
        "\n",
        "    results['final_fit_time_s'] = 'N/A (Included in Search Time)'\n",
        "\n",
        "\n",
        "    try:\n",
        "        y_val_pred = best_model.predict(X_val)\n",
        "        val_metrics = evaluate_classification_metrics(y_val, y_val_pred, target_names)\n",
        "        results['val_metrics'] = val_metrics\n",
        "        #log_message(f\"Validation Metrics (Best Model): Acc={val_metrics['accuracy']:.4f}, F1-W={val_metrics['f1_weighted']:.4f}\")\n",
        "    except Exception as e:\n",
        "\n",
        "        results['val_metrics'] = None\n",
        "\n",
        "\n",
        "    try:\n",
        "        y_test_pred = best_model.predict(X_test)\n",
        "        test_metrics = evaluate_classification_metrics(y_test, y_test_pred, target_names)\n",
        "        results['test_metrics'] = test_metrics\n",
        "        #log_message(f\"Test Metrics (Best Model): Acc={test_metrics['accuracy']:.4f}, F1-W={test_metrics['f1_weighted']:.4f}\")\n",
        "    except Exception as e:\n",
        "        results['test_metrics'] = None\n",
        "\n",
        "    return results\n"
      ]
    },
    {
      "cell_type": "markdown",
      "metadata": {
        "id": "9CjggtmaXW-O"
      },
      "source": [
        "# Hyperparameter Candidates to Search for Each Model"
      ]
    },
    {
      "cell_type": "code",
      "execution_count": null,
      "metadata": {
        "id": "dBiBx3ckXW-O"
      },
      "outputs": [],
      "source": [
        "# Random Forest Model\n",
        "param_dist_rf = {\n",
        "    'n_estimators': randint(100, 500),\n",
        "    'max_depth': [10, 20, 30, None],\n",
        "    'min_samples_split': randint(2, 11),\n",
        "    'min_samples_leaf': randint(1, 11),\n",
        "    'max_features': ['sqrt', 'log2', None]\n",
        "}\n",
        "\n",
        "#XGBoost Classifier\n",
        "param_dist_xgb = {\n",
        "    'n_estimators': randint(100, 500),\n",
        "    'learning_rate': loguniform(0.01, 0.3),\n",
        "    'max_depth': randint(3, 10),\n",
        "    'subsample': uniform(0.6, 0.4),\n",
        "    'colsample_bytree': uniform(0.6, 0.4),\n",
        "    'gamma': [0, 1, 5]\n",
        "}\n",
        "\n",
        "#Light GBM\n",
        "param_dist_lgbm = {\n",
        "    'n_estimators': randint(100, 500),\n",
        "    'learning_rate': loguniform(0.01, 0.3),\n",
        "    'num_leaves': randint(20, 60),\n",
        "    'max_depth': [-1, 10, 20, 30],\n",
        "    'subsample': uniform(0.6, 0.4),\n",
        "    'colsample_bytree': uniform(0.6, 0.4),\n",
        "    'reg_alpha': loguniform(1e-3, 1.0),\n",
        "    'reg_lambda': loguniform(1e-3, 1.0)\n",
        "}\n",
        "\n",
        "#Explainable Boosting Machine\n",
        "param_dist_ebm = {\n",
        "    'learning_rate': loguniform(0.01, 0.2),\n",
        "    'max_leaves': randint(2, 10),\n",
        "}\n",
        "\n",
        "#SVM with RBF Kernel\n",
        "param_dist_svm = {\n",
        "    'C': loguniform(0.1, 100),\n",
        "    'gamma': loguniform(1e-4, 1e-1)\n",
        "}"
      ]
    },
    {
      "cell_type": "markdown",
      "metadata": {
        "id": "U1ADW90YXW-O"
      },
      "source": [
        "# ML Models"
      ]
    },
    {
      "cell_type": "code",
      "execution_count": null,
      "metadata": {
        "id": "3g5BsYIdXW-O"
      },
      "outputs": [],
      "source": [
        "all_results = []\n",
        "models_to_search = [\n",
        "    (\"RandomForest\", RandomForestClassifier(random_state=RANDOM_STATE, class_weight='balanced'), param_dist_rf),\n",
        "    (\"XGBoost\", XGBClassifier(objective='multi:softmax', num_class=NUM_CLASSES, eval_metric='mlogloss', use_label_encoder=False, random_state=RANDOM_STATE), param_dist_xgb),\n",
        "    (\"LightGBM\", LGBMClassifier(objective='multiclass', num_class=NUM_CLASSES, metric='multi_logloss', class_weight='balanced', random_state=RANDOM_STATE), param_dist_lgbm),\n",
        "    (\"EBM\", ExplainableBoostingClassifier(random_state=RANDOM_STATE), param_dist_ebm),\n",
        "    (\"SVM_RBF\", SVC(kernel='rbf', probability=True, random_state=RANDOM_STATE, class_weight='balanced'), param_dist_svm)\n",
        "]"
      ]
    },
    {
      "cell_type": "code",
      "execution_count": null,
      "metadata": {
        "id": "l5d0PlhbXW-O",
        "outputId": "0d4e340f-174d-46e6-934c-1672875c6e66",
        "colab": {
          "referenced_widgets": [
            "1a0e756815f14f7987e32069aeb679c7"
          ]
        }
      },
      "outputs": [
        {
          "data": {
            "application/vnd.jupyter.widget-view+json": {
              "model_id": "1a0e756815f14f7987e32069aeb679c7",
              "version_major": 2,
              "version_minor": 0
            },
            "text/plain": [
              "Tuning all models..:   0%|          | 0/5 [00:00<?, ?it/s]"
            ]
          },
          "metadata": {},
          "output_type": "display_data"
        },
        {
          "name": "stdout",
          "output_type": "stream",
          "text": [
            "Fitting 3 folds for each of 50 candidates, totalling 150 fits\n"
          ]
        },
        {
          "name": "stderr",
          "output_type": "stream",
          "text": [
            "/opt/anaconda3/envs/el_ds/lib/python3.12/site-packages/sklearn/base.py:1389: DataConversionWarning: A column-vector y was passed when a 1d array was expected. Please change the shape of y to (n_samples,), for example using ravel().\n",
            "  return fit_method(estimator, *args, **kwargs)\n",
            "/opt/anaconda3/envs/el_ds/lib/python3.12/site-packages/sklearn/base.py:1389: DataConversionWarning: A column-vector y was passed when a 1d array was expected. Please change the shape of y to (n_samples,), for example using ravel().\n",
            "  return fit_method(estimator, *args, **kwargs)\n",
            "/opt/anaconda3/envs/el_ds/lib/python3.12/site-packages/sklearn/base.py:1389: DataConversionWarning: A column-vector y was passed when a 1d array was expected. Please change the shape of y to (n_samples,), for example using ravel().\n",
            "  return fit_method(estimator, *args, **kwargs)\n",
            "/opt/anaconda3/envs/el_ds/lib/python3.12/site-packages/sklearn/base.py:1389: DataConversionWarning: A column-vector y was passed when a 1d array was expected. Please change the shape of y to (n_samples,), for example using ravel().\n",
            "  return fit_method(estimator, *args, **kwargs)\n",
            "/opt/anaconda3/envs/el_ds/lib/python3.12/site-packages/sklearn/base.py:1389: DataConversionWarning: A column-vector y was passed when a 1d array was expected. Please change the shape of y to (n_samples,), for example using ravel().\n",
            "  return fit_method(estimator, *args, **kwargs)\n",
            "/opt/anaconda3/envs/el_ds/lib/python3.12/site-packages/sklearn/base.py:1389: DataConversionWarning: A column-vector y was passed when a 1d array was expected. Please change the shape of y to (n_samples,), for example using ravel().\n",
            "  return fit_method(estimator, *args, **kwargs)\n",
            "/opt/anaconda3/envs/el_ds/lib/python3.12/site-packages/sklearn/base.py:1389: DataConversionWarning: A column-vector y was passed when a 1d array was expected. Please change the shape of y to (n_samples,), for example using ravel().\n",
            "  return fit_method(estimator, *args, **kwargs)\n",
            "/opt/anaconda3/envs/el_ds/lib/python3.12/site-packages/sklearn/base.py:1389: DataConversionWarning: A column-vector y was passed when a 1d array was expected. Please change the shape of y to (n_samples,), for example using ravel().\n",
            "  return fit_method(estimator, *args, **kwargs)\n",
            "/opt/anaconda3/envs/el_ds/lib/python3.12/site-packages/sklearn/base.py:1389: DataConversionWarning: A column-vector y was passed when a 1d array was expected. Please change the shape of y to (n_samples,), for example using ravel().\n",
            "  return fit_method(estimator, *args, **kwargs)\n",
            "/opt/anaconda3/envs/el_ds/lib/python3.12/site-packages/sklearn/base.py:1389: DataConversionWarning: A column-vector y was passed when a 1d array was expected. Please change the shape of y to (n_samples,), for example using ravel().\n",
            "  return fit_method(estimator, *args, **kwargs)\n",
            "/opt/anaconda3/envs/el_ds/lib/python3.12/site-packages/sklearn/base.py:1389: DataConversionWarning: A column-vector y was passed when a 1d array was expected. Please change the shape of y to (n_samples,), for example using ravel().\n",
            "  return fit_method(estimator, *args, **kwargs)\n",
            "/opt/anaconda3/envs/el_ds/lib/python3.12/site-packages/sklearn/base.py:1389: DataConversionWarning: A column-vector y was passed when a 1d array was expected. Please change the shape of y to (n_samples,), for example using ravel().\n",
            "  return fit_method(estimator, *args, **kwargs)\n",
            "/opt/anaconda3/envs/el_ds/lib/python3.12/site-packages/sklearn/base.py:1389: DataConversionWarning: A column-vector y was passed when a 1d array was expected. Please change the shape of y to (n_samples,), for example using ravel().\n",
            "  return fit_method(estimator, *args, **kwargs)\n",
            "/opt/anaconda3/envs/el_ds/lib/python3.12/site-packages/sklearn/base.py:1389: DataConversionWarning: A column-vector y was passed when a 1d array was expected. Please change the shape of y to (n_samples,), for example using ravel().\n",
            "  return fit_method(estimator, *args, **kwargs)\n",
            "/opt/anaconda3/envs/el_ds/lib/python3.12/site-packages/sklearn/base.py:1389: DataConversionWarning: A column-vector y was passed when a 1d array was expected. Please change the shape of y to (n_samples,), for example using ravel().\n",
            "  return fit_method(estimator, *args, **kwargs)\n",
            "/opt/anaconda3/envs/el_ds/lib/python3.12/site-packages/sklearn/base.py:1389: DataConversionWarning: A column-vector y was passed when a 1d array was expected. Please change the shape of y to (n_samples,), for example using ravel().\n",
            "  return fit_method(estimator, *args, **kwargs)\n",
            "/opt/anaconda3/envs/el_ds/lib/python3.12/site-packages/sklearn/base.py:1389: DataConversionWarning: A column-vector y was passed when a 1d array was expected. Please change the shape of y to (n_samples,), for example using ravel().\n",
            "  return fit_method(estimator, *args, **kwargs)\n",
            "/opt/anaconda3/envs/el_ds/lib/python3.12/site-packages/sklearn/base.py:1389: DataConversionWarning: A column-vector y was passed when a 1d array was expected. Please change the shape of y to (n_samples,), for example using ravel().\n",
            "  return fit_method(estimator, *args, **kwargs)\n",
            "/opt/anaconda3/envs/el_ds/lib/python3.12/site-packages/sklearn/base.py:1389: DataConversionWarning: A column-vector y was passed when a 1d array was expected. Please change the shape of y to (n_samples,), for example using ravel().\n",
            "  return fit_method(estimator, *args, **kwargs)\n",
            "/opt/anaconda3/envs/el_ds/lib/python3.12/site-packages/sklearn/base.py:1389: DataConversionWarning: A column-vector y was passed when a 1d array was expected. Please change the shape of y to (n_samples,), for example using ravel().\n",
            "  return fit_method(estimator, *args, **kwargs)\n",
            "/opt/anaconda3/envs/el_ds/lib/python3.12/site-packages/sklearn/base.py:1389: DataConversionWarning: A column-vector y was passed when a 1d array was expected. Please change the shape of y to (n_samples,), for example using ravel().\n",
            "  return fit_method(estimator, *args, **kwargs)\n",
            "/opt/anaconda3/envs/el_ds/lib/python3.12/site-packages/sklearn/base.py:1389: DataConversionWarning: A column-vector y was passed when a 1d array was expected. Please change the shape of y to (n_samples,), for example using ravel().\n",
            "  return fit_method(estimator, *args, **kwargs)\n",
            "/opt/anaconda3/envs/el_ds/lib/python3.12/site-packages/sklearn/base.py:1389: DataConversionWarning: A column-vector y was passed when a 1d array was expected. Please change the shape of y to (n_samples,), for example using ravel().\n",
            "  return fit_method(estimator, *args, **kwargs)\n",
            "/opt/anaconda3/envs/el_ds/lib/python3.12/site-packages/sklearn/base.py:1389: DataConversionWarning: A column-vector y was passed when a 1d array was expected. Please change the shape of y to (n_samples,), for example using ravel().\n",
            "  return fit_method(estimator, *args, **kwargs)\n",
            "/opt/anaconda3/envs/el_ds/lib/python3.12/site-packages/sklearn/base.py:1389: DataConversionWarning: A column-vector y was passed when a 1d array was expected. Please change the shape of y to (n_samples,), for example using ravel().\n",
            "  return fit_method(estimator, *args, **kwargs)\n",
            "/opt/anaconda3/envs/el_ds/lib/python3.12/site-packages/sklearn/base.py:1389: DataConversionWarning: A column-vector y was passed when a 1d array was expected. Please change the shape of y to (n_samples,), for example using ravel().\n",
            "  return fit_method(estimator, *args, **kwargs)\n",
            "/opt/anaconda3/envs/el_ds/lib/python3.12/site-packages/sklearn/base.py:1389: DataConversionWarning: A column-vector y was passed when a 1d array was expected. Please change the shape of y to (n_samples,), for example using ravel().\n",
            "  return fit_method(estimator, *args, **kwargs)\n",
            "/opt/anaconda3/envs/el_ds/lib/python3.12/site-packages/sklearn/base.py:1389: DataConversionWarning: A column-vector y was passed when a 1d array was expected. Please change the shape of y to (n_samples,), for example using ravel().\n",
            "  return fit_method(estimator, *args, **kwargs)\n",
            "/opt/anaconda3/envs/el_ds/lib/python3.12/site-packages/sklearn/base.py:1389: DataConversionWarning: A column-vector y was passed when a 1d array was expected. Please change the shape of y to (n_samples,), for example using ravel().\n",
            "  return fit_method(estimator, *args, **kwargs)\n",
            "/opt/anaconda3/envs/el_ds/lib/python3.12/site-packages/sklearn/base.py:1389: DataConversionWarning: A column-vector y was passed when a 1d array was expected. Please change the shape of y to (n_samples,), for example using ravel().\n",
            "  return fit_method(estimator, *args, **kwargs)\n",
            "/opt/anaconda3/envs/el_ds/lib/python3.12/site-packages/sklearn/base.py:1389: DataConversionWarning: A column-vector y was passed when a 1d array was expected. Please change the shape of y to (n_samples,), for example using ravel().\n",
            "  return fit_method(estimator, *args, **kwargs)\n",
            "/opt/anaconda3/envs/el_ds/lib/python3.12/site-packages/sklearn/base.py:1389: DataConversionWarning: A column-vector y was passed when a 1d array was expected. Please change the shape of y to (n_samples,), for example using ravel().\n",
            "  return fit_method(estimator, *args, **kwargs)\n",
            "/opt/anaconda3/envs/el_ds/lib/python3.12/site-packages/sklearn/base.py:1389: DataConversionWarning: A column-vector y was passed when a 1d array was expected. Please change the shape of y to (n_samples,), for example using ravel().\n",
            "  return fit_method(estimator, *args, **kwargs)\n",
            "/opt/anaconda3/envs/el_ds/lib/python3.12/site-packages/sklearn/base.py:1389: DataConversionWarning: A column-vector y was passed when a 1d array was expected. Please change the shape of y to (n_samples,), for example using ravel().\n",
            "  return fit_method(estimator, *args, **kwargs)\n",
            "/opt/anaconda3/envs/el_ds/lib/python3.12/site-packages/sklearn/base.py:1389: DataConversionWarning: A column-vector y was passed when a 1d array was expected. Please change the shape of y to (n_samples,), for example using ravel().\n",
            "  return fit_method(estimator, *args, **kwargs)\n",
            "/opt/anaconda3/envs/el_ds/lib/python3.12/site-packages/sklearn/base.py:1389: DataConversionWarning: A column-vector y was passed when a 1d array was expected. Please change the shape of y to (n_samples,), for example using ravel().\n",
            "  return fit_method(estimator, *args, **kwargs)\n",
            "/opt/anaconda3/envs/el_ds/lib/python3.12/site-packages/sklearn/base.py:1389: DataConversionWarning: A column-vector y was passed when a 1d array was expected. Please change the shape of y to (n_samples,), for example using ravel().\n",
            "  return fit_method(estimator, *args, **kwargs)\n",
            "/opt/anaconda3/envs/el_ds/lib/python3.12/site-packages/sklearn/base.py:1389: DataConversionWarning: A column-vector y was passed when a 1d array was expected. Please change the shape of y to (n_samples,), for example using ravel().\n",
            "  return fit_method(estimator, *args, **kwargs)\n",
            "/opt/anaconda3/envs/el_ds/lib/python3.12/site-packages/sklearn/base.py:1389: DataConversionWarning: A column-vector y was passed when a 1d array was expected. Please change the shape of y to (n_samples,), for example using ravel().\n",
            "  return fit_method(estimator, *args, **kwargs)\n",
            "/opt/anaconda3/envs/el_ds/lib/python3.12/site-packages/sklearn/base.py:1389: DataConversionWarning: A column-vector y was passed when a 1d array was expected. Please change the shape of y to (n_samples,), for example using ravel().\n",
            "  return fit_method(estimator, *args, **kwargs)\n",
            "/opt/anaconda3/envs/el_ds/lib/python3.12/site-packages/sklearn/base.py:1389: DataConversionWarning: A column-vector y was passed when a 1d array was expected. Please change the shape of y to (n_samples,), for example using ravel().\n",
            "  return fit_method(estimator, *args, **kwargs)\n",
            "/opt/anaconda3/envs/el_ds/lib/python3.12/site-packages/sklearn/base.py:1389: DataConversionWarning: A column-vector y was passed when a 1d array was expected. Please change the shape of y to (n_samples,), for example using ravel().\n",
            "  return fit_method(estimator, *args, **kwargs)\n",
            "/opt/anaconda3/envs/el_ds/lib/python3.12/site-packages/sklearn/base.py:1389: DataConversionWarning: A column-vector y was passed when a 1d array was expected. Please change the shape of y to (n_samples,), for example using ravel().\n",
            "  return fit_method(estimator, *args, **kwargs)\n",
            "/opt/anaconda3/envs/el_ds/lib/python3.12/site-packages/sklearn/base.py:1389: DataConversionWarning: A column-vector y was passed when a 1d array was expected. Please change the shape of y to (n_samples,), for example using ravel().\n",
            "  return fit_method(estimator, *args, **kwargs)\n",
            "/opt/anaconda3/envs/el_ds/lib/python3.12/site-packages/sklearn/base.py:1389: DataConversionWarning: A column-vector y was passed when a 1d array was expected. Please change the shape of y to (n_samples,), for example using ravel().\n",
            "  return fit_method(estimator, *args, **kwargs)\n"
          ]
        }
      ],
      "source": [
        "from tqdm.notebook import tqdm\n",
        "for name, base_model, params in tqdm(models_to_search, desc = \"Tuning all models..\"):\n",
        "    model_results = train_evaluate_model_with_search(\n",
        "        name, base_model, params,\n",
        "        X_train_pca, y_train.values,\n",
        "        X_val_pca, y_val.values,\n",
        "        X_test_pca, y_test_enc,\n",
        "        target_names\n",
        "    )\n",
        "    all_results.append(model_results)"
      ]
    },
    {
      "cell_type": "code",
      "execution_count": null,
      "metadata": {
        "id": "PO5O1YYKXW-P"
      },
      "outputs": [],
      "source": []
    }
  ],
  "metadata": {
    "kernelspec": {
      "display_name": "el_ds",
      "language": "python",
      "name": "python3"
    },
    "language_info": {
      "codemirror_mode": {
        "name": "ipython",
        "version": 3
      },
      "file_extension": ".py",
      "mimetype": "text/x-python",
      "name": "python",
      "nbconvert_exporter": "python",
      "pygments_lexer": "ipython3",
      "version": "3.12.4"
    },
    "colab": {
      "provenance": []
    }
  },
  "nbformat": 4,
  "nbformat_minor": 0
}