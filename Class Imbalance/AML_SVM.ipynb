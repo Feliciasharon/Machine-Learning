{
  "cells": [
    {
      "cell_type": "markdown",
      "metadata": {
        "id": "sEFq7ABemXbJ"
      },
      "source": [
        "#AML Project\n",
        "\n",
        "##Group 10\n"
      ]
    },
    {
      "cell_type": "markdown",
      "metadata": {
        "id": "2f0xAZadmdCt"
      },
      "source": [
        "## SVM"
      ]
    },
    {
      "cell_type": "code",
      "execution_count": null,
      "metadata": {
        "id": "CWhFeMhimkQz"
      },
      "outputs": [],
      "source": [
        "import numpy as np\n",
        "import pandas as pd\n",
        "import matplotlib.pyplot as plt\n",
        "import seaborn as sns\n",
        "import time\n",
        "\n",
        "from sklearn.ensemble import GradientBoostingClassifier, HistGradientBoostingClassifier\n",
        "from xgboost import XGBClassifier\n",
        "from sklearn.ensemble import RandomForestClassifier\n",
        "\n",
        "from sklearn.tree import DecisionTreeClassifier\n",
        "from sklearn.pipeline import make_pipeline\n",
        "from sklearn.pipeline import Pipeline\n",
        "from sklearn import tree\n",
        "\n",
        "from sklearn.metrics import accuracy_score, brier_score_loss\n",
        "from sklearn.metrics import classification_report, f1_score, confusion_matrix, ConfusionMatrixDisplay\n",
        "from sklearn.metrics import precision_recall_fscore_support\n",
        "\n",
        "from sklearn.model_selection import StratifiedKFold\n",
        "from sklearn.model_selection import train_test_split\n",
        "from sklearn.model_selection import cross_val_score, GridSearchCV\n",
        "from sklearn.model_selection import ParameterGrid\n",
        "\n",
        "from sklearn.preprocessing import OneHotEncoder, StandardScaler, LabelEncoder\n",
        "from sklearn.compose import ColumnTransformer\n",
        "from sklearn.metrics import brier_score_loss\n",
        "from sklearn.calibration import CalibratedClassifierCV\n",
        "from sklearn.calibration import CalibrationDisplay"
      ]
    },
    {
      "cell_type": "code",
      "execution_count": null,
      "metadata": {
        "id": "KqLJxLVKm0Zp"
      },
      "outputs": [],
      "source": [
        "x_train = pd.read_csv('/content/drive/MyDrive/AML_Project/dataset/Oversampled_X_train.csv')\n",
        "y_train = pd.read_csv('/content/drive/MyDrive/AML_Project/dataset/Oversampled_y_train.csv')\n",
        "\n",
        "x_test = pd.read_csv('/content/drive/MyDrive/AML_Project/dataset/X_test.csv')\n",
        "y_test = pd.read_csv('/content/drive/MyDrive/AML_Project/dataset/y_test.csv')\n",
        "\n",
        "x_val = pd.read_csv('/content/drive/MyDrive/AML_Project/dataset/X_val.csv')\n",
        "y_val = pd.read_csv('/content/drive/MyDrive/AML_Project/dataset/y_val.csv')"
      ]
    },
    {
      "cell_type": "code",
      "execution_count": null,
      "metadata": {
        "id": "hywi3eEjnBvt"
      },
      "outputs": [],
      "source": [
        "y_train = y_train['attack'].map({'Dos':0, 'Probe':1, 'R2L':2, 'U2R':3, 'normal':4})\n",
        "y_test = y_test['attack'].map({'Dos':0, 'Probe':1, 'R2L':2, 'U2R':3, 'normal':4})\n",
        "y_val = y_val['attack'].map({'Dos':0, 'Probe':1, 'R2L':2, 'U2R':3, 'normal':4})"
      ]
    },
    {
      "cell_type": "markdown",
      "metadata": {
        "id": "psr5XS6Jn97a"
      },
      "source": [
        "## GridSearch to find the best model"
      ]
    },
    {
      "cell_type": "code",
      "execution_count": null,
      "metadata": {
        "colab": {
          "base_uri": "https://localhost:8080/"
        },
        "id": "wKOpt1p5mUCJ",
        "outputId": "3331d1c9-bda5-4306-efeb-f5fc3d5dbc64"
      },
      "outputs": [
        {
          "output_type": "stream",
          "name": "stdout",
          "text": [
            "Fitting 3 folds for each of 3 candidates, totalling 9 fits\n",
            "[CV] END ......................................kernel=linear; total time= 1.2min\n",
            "[CV] END ......................................kernel=linear; total time= 1.2min\n",
            "[CV] END ......................................kernel=linear; total time= 1.3min\n",
            "[CV] END .........................................kernel=rbf; total time= 1.6min\n",
            "[CV] END .........................................kernel=rbf; total time= 1.6min\n",
            "[CV] END .........................................kernel=rbf; total time= 1.7min\n",
            "[CV] END ........................................kernel=poly; total time= 6.3min\n",
            "[CV] END ........................................kernel=poly; total time= 6.4min\n",
            "[CV] END ........................................kernel=poly; total time=11.8min\n"
          ]
        }
      ],
      "source": [
        "from sklearn.svm import SVC\n",
        "\n",
        "svm = SVC()\n",
        "\n",
        "param_grid = {\n",
        "    'kernel': ['linear', 'rbf', 'poly']\n",
        "}\n",
        "\n",
        "grid_search = GridSearchCV(svm, param_grid, cv=3, scoring='accuracy', verbose=2)\n",
        "\n",
        "start_time = time.time()\n",
        "\n",
        "grid_search.fit(x_train, y_train)\n",
        "\n",
        "end_time = time.time()\n",
        "time_taken = end_time - start_time\n"
      ]
    },
    {
      "cell_type": "code",
      "source": [
        "best_params = grid_search.best_params_\n",
        "best_score = grid_search.best_score_\n",
        "\n",
        "print(f\"Time taken for model selection (GridSearchCV): {time_taken:.2f} seconds\")\n",
        "\n",
        "best_model_svm = grid_search.best_estimator_\n",
        "y_pred = best_model_svm.predict(x_test)\n",
        "y_pred_train = best_model_svm.predict(x_train)\n",
        "\n",
        "accuracy_train = accuracy_score(y_train, y_pred_train)\n",
        "\n",
        "test_accuracy = accuracy_score(y_test, y_pred)\n",
        "\n",
        "print(f\"Best Hyperparameters: {best_params}\")\n",
        "print(f\"Best Cross-Validation Score: {best_score:.4f}\")\n",
        "print(f\"Train Set Accuracy: {accuracy_train:.4f}\")\n",
        "print(f\"Test Set Accuracy: {test_accuracy:.4f}\")"
      ],
      "metadata": {
        "colab": {
          "base_uri": "https://localhost:8080/"
        },
        "id": "PJr9jIYu33vP",
        "outputId": "4031396d-6c31-4a63-f5d9-fcdc4545161d"
      },
      "execution_count": null,
      "outputs": [
        {
          "output_type": "stream",
          "name": "stdout",
          "text": [
            "Time taken for model selection (GridSearchCV): 2093.20 seconds\n",
            "Best Hyperparameters: {'kernel': 'rbf'}\n",
            "Best Cross-Validation Score: 0.9982\n",
            "Train Set Accuracy: 0.9985\n",
            "Test Set Accuracy: 0.7936\n"
          ]
        }
      ]
    },
    {
      "cell_type": "code",
      "source": [
        "report_test=classification_report(y_test, y_pred)\n",
        "print(report_test)"
      ],
      "metadata": {
        "colab": {
          "base_uri": "https://localhost:8080/"
        },
        "id": "oA5nFUoVBOPG",
        "outputId": "c2eb5e4d-980e-431c-d9fc-d41696bfe98d"
      },
      "execution_count": null,
      "outputs": [
        {
          "output_type": "stream",
          "name": "stdout",
          "text": [
            "              precision    recall  f1-score   support\n",
            "\n",
            "           0       0.97      0.80      0.88      7459\n",
            "           1       0.70      0.80      0.74      2421\n",
            "           2       0.96      0.21      0.35      2885\n",
            "           3       0.34      0.52      0.41        67\n",
            "           4       0.73      0.96      0.83      9711\n",
            "\n",
            "    accuracy                           0.79     22543\n",
            "   macro avg       0.74      0.66      0.64     22543\n",
            "weighted avg       0.83      0.79      0.77     22543\n",
            "\n"
          ]
        }
      ]
    },
    {
      "cell_type": "code",
      "execution_count": null,
      "metadata": {
        "id": "yXXj6UsBpAFv",
        "colab": {
          "base_uri": "https://localhost:8080/",
          "height": 472
        },
        "outputId": "73708df6-8bcd-42b1-ce12-365cbfce325f"
      },
      "outputs": [
        {
          "output_type": "display_data",
          "data": {
            "text/plain": [
              "<Figure size 640x480 with 2 Axes>"
            ],
            "image/png": "[encoded data removed]"
          },
          "metadata": {}
        }
      ],
      "source": [
        "cm = confusion_matrix(y_test, y_pred, labels=best_model_svm.classes_)\n",
        "disp = ConfusionMatrixDisplay(confusion_matrix=cm,\n",
        "                              display_labels=best_model_svm.classes_)\n",
        "disp.plot()\n",
        "plt.title(\"Confusion matrix on Test data\")\n",
        "plt.show()"
      ]
    }
  ],
  "metadata": {
    "accelerator": "GPU",
    "colab": {
      "gpuType": "T4",
      "provenance": []
    },
    "kernelspec": {
      "display_name": "Python 3",
      "name": "python3"
    },
    "language_info": {
      "name": "python"
    }
  },
  "nbformat": 4,
  "nbformat_minor": 0
}